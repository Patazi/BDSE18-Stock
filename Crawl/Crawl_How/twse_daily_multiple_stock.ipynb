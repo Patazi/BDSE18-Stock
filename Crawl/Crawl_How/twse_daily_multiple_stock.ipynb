{
 "cells": [
  {
   "cell_type": "markdown",
   "metadata": {},
   "source": [
    "# 多股，多月測試 OK"
   ]
  },
  {
   "cell_type": "markdown",
   "metadata": {},
   "source": [
    "# 可以使用 stock_list.csv 進行單股，2010-2022 的每日交易爬蟲了。"
   ]
  },
  {
   "cell_type": "code",
   "execution_count": 1,
   "metadata": {},
   "outputs": [],
   "source": [
    "# -*- coding: UTF-8 -*-\n",
    "import csv\n",
    "import pandas as pd\n",
    "import numpy as np\n",
    "import json as js \n",
    "import requests\n",
    "import time\n",
    "import random\n",
    "from datetime import datetime\n",
    "from tqdm import trange,tqdm\n",
    "\n",
    "def Stock_crawl(stockNo,Name):\n",
    "    \n",
    "    starttime= datetime.now() #紀錄多久\n",
    "    dates=[]\n",
    "    # 獲取今天日期\n",
    "    now_time = datetime.now().strftime('%Y%m%d')\n",
    "\n",
    "    # 選擇日期範圍，證交所資料從20100101年開始\n",
    "    for i in range (2010,2022): \n",
    "        for j in range(1,13):\n",
    "            if j <10:\n",
    "                j=\"0\"+str(j)\n",
    "            # 如果日期大於今天日期，停止迴圈(不新增進dates list中)\n",
    "            if  (str(i)+str(j)+str(\"01\")) > now_time:\n",
    "                break\n",
    "            dates.append(str(i)+str(j)+str(\"01\"))\n",
    "\n",
    "    json_list=[]\n",
    "    json_data=[]\n",
    "    #計數\n",
    "    count = 0\n",
    "    #把日期反轉，讓程式從最近的日期往前抓，好處是有些股票上市日期不到10年，或是中途下市(只會抓到重新上市後的資料)\n",
    "    dates.reverse()\n",
    "    # tqdm 是進度條的插件\n",
    "    for Date in tqdm(dates):\n",
    "        try:\n",
    "            url = f'https://www.twse.com.tw/exchangeReport/STOCK_DAY?response=json&date={Date}&stockNo={stockNo}'\n",
    "            #設成空值 (好像沒效果)\n",
    "            data = None \n",
    "            data = requests.get(url).text\n",
    "            json_data = js.loads(data)\n",
    "            #用insert是為了讓舊資料在前面\n",
    "            json_list.insert(0,json_data['data'])\n",
    "            time.sleep (random.randrange(2, 4))\n",
    "#             print(Date+\" \"+f'{stockNo}')\n",
    "        except:\n",
    "            # 錯誤計數，如果次數大於3次，就換下一支股票\n",
    "            count += 1\n",
    "            if count > 3:\n",
    "                count = 0\n",
    "                break\n",
    "            print(\"No data of\",Date,Name)\n",
    "            # 把缺失的日期插回list中，這樣就可以繼續抓\n",
    "            dates.insert(0,Date)\n",
    "            # 確定缺失的日期在list的第一個\n",
    "#             print(dates[0])\n",
    "           \n",
    "\n",
    "            continue\n",
    "    json=[] \n",
    "    json_stock=[]\n",
    "#     try:\n",
    "    for i in range (0, len(json_list)):\n",
    "        for j in range(0,len(json_list[i])):\n",
    "            json_stock.append(json_list[i][j])\n",
    "\n",
    "    for j in range(0,(len(json_stock))):\n",
    "        StockPrice = pd.DataFrame(json_stock, columns = ['Date','Volume','Volume_Cash','Open','High','Low','Close','Change','Order'])\n",
    "\n",
    "        StockPrice['Date'] = StockPrice['Date'].str.replace('/','').astype(int) + 19110000\n",
    "        StockPrice['Date'] = pd.to_datetime(StockPrice['Date'].astype(str))\n",
    "        StockPrice['Volume'] = StockPrice['Volume'].str.replace(',','').astype(float)\n",
    "        StockPrice['Volume_Cash'] = StockPrice['Volume_Cash'].str.replace(',','').astype(float)\n",
    "        StockPrice['Order'] = StockPrice['Order'].str.replace(',','').astype(float)\n",
    "\n",
    "#         StockPrice['Open'] = StockPrice['Open'].str.replace(',','').astype(float)\n",
    "#         StockPrice['High'] = StockPrice['High'].str.replace(',','').astype(float)\n",
    "#         StockPrice['Low'] = StockPrice['Low'].str.replace(',','').astype(float)\n",
    "#         StockPrice['Close'] = StockPrice['Close'].str.replace(',','').astype(float)\n",
    "        StockPrice['Change'] = StockPrice['Change'].str.replace(',','').str.replace('+','').str.replace('X','').astype(float)\n",
    "        StockPrice.insert(0,column='stock_id',value=stockNo)\n",
    "        StockPrice.insert(1,column='stock_name',value=Name)\n",
    "        StockPrice = StockPrice[['stock_id','stock_name','Date','Volume','Volume_Cash','Open','High','Low','Close','Change','Order']]\n",
    "            #中文對照：股票代碼/公司名稱/日期/成交量/成交金額/開盤價/最高價/最低價/收盤價/漲跌幅/交易筆數\n",
    "#     except:\n",
    "#         print(\"Woops, Something wrong~\")\n",
    "\n",
    "    file_name = \"daily/{}_daily.csv\".format(stockNo)\n",
    "    StockPrice.to_csv(file_name, index=False)\n",
    "    print(file_name+\"下載完成...\", end=\"\")\n",
    "    endtime= datetime.now() #紀錄爬取該支股票要多久\n",
    "    print(\"執行時間:\",endtime-starttime,\"秒\") #紀錄爬取該支股票要多久\n",
    "    #1101_daily.csv下載完成...執行時間: 0:12:27.472259 秒\n",
    "    #1102_daily.csv下載完成...執行時間: 0:12:47.176578 秒"
   ]
  },
  {
   "cell_type": "code",
   "execution_count": 4,
   "metadata": {
    "scrolled": true
   },
   "outputs": [
    {
     "name": "stderr",
     "output_type": "stream",
     "text": [
      "\r",
      "  0%|          | 0/136 [00:00<?, ?it/s]"
     ]
    },
    {
     "name": "stdout",
     "output_type": "stream",
     "text": [
      "1301 台塑\n"
     ]
    },
    {
     "name": "stderr",
     "output_type": "stream",
     "text": [
      "100%|██████████| 136/136 [05:50<00:00,  2.58s/it]\n",
      "<ipython-input-1-fe574105a162>:81: FutureWarning: The default value of regex will change from True to False in a future version. In addition, single character regular expressions will*not* be treated as literal strings when regex=True.\n",
      "  StockPrice['Change'] = StockPrice['Change'].str.replace(',','').str.replace('+','').str.replace('X','').astype(float)\n",
      "  0%|          | 0/136 [00:00<?, ?it/s]"
     ]
    },
    {
     "name": "stdout",
     "output_type": "stream",
     "text": [
      "daily/1301_daily.csv下載完成...執行時間: 0:06:33.877378 秒\n",
      "1303 南亞\n"
     ]
    },
    {
     "name": "stderr",
     "output_type": "stream",
     "text": [
      "100%|██████████| 136/136 [05:52<00:00,  2.59s/it]\n",
      "  0%|          | 0/136 [00:00<?, ?it/s]"
     ]
    },
    {
     "name": "stdout",
     "output_type": "stream",
     "text": [
      "daily/1303_daily.csv下載完成...執行時間: 0:06:35.131513 秒\n",
      "1304 台聚\n"
     ]
    },
    {
     "name": "stderr",
     "output_type": "stream",
     "text": [
      " 10%|▉         | 13/136 [00:33<05:53,  2.88s/it]"
     ]
    },
    {
     "name": "stdout",
     "output_type": "stream",
     "text": [
      "No data of 20200301 台聚\n",
      "No data of 20200301 台聚\n"
     ]
    },
    {
     "name": "stderr",
     "output_type": "stream",
     "text": [
      "138it [05:57,  2.59s/it]                         \n",
      "  0%|          | 0/136 [00:00<?, ?it/s]"
     ]
    },
    {
     "name": "stdout",
     "output_type": "stream",
     "text": [
      "daily/1304_daily.csv下載完成...執行時間: 0:06:40.178712 秒\n",
      "1305 華夏\n"
     ]
    },
    {
     "name": "stderr",
     "output_type": "stream",
     "text": [
      "100%|██████████| 136/136 [05:48<00:00,  2.56s/it]\n",
      "  0%|          | 0/136 [00:00<?, ?it/s]"
     ]
    },
    {
     "name": "stdout",
     "output_type": "stream",
     "text": [
      "daily/1305_daily.csv下載完成...執行時間: 0:06:31.241429 秒\n",
      "1307 三芳\n"
     ]
    },
    {
     "name": "stderr",
     "output_type": "stream",
     "text": [
      " 32%|███▏      | 43/136 [01:43<03:46,  2.43s/it]"
     ]
    },
    {
     "name": "stdout",
     "output_type": "stream",
     "text": [
      "No data of 20170901 三芳\n"
     ]
    },
    {
     "name": "stderr",
     "output_type": "stream",
     "text": [
      "\r",
      " 33%|███▎      | 45/136 [01:47<03:25,  2.25s/it]"
     ]
    },
    {
     "name": "stdout",
     "output_type": "stream",
     "text": [
      "No data of 20170901 三芳\n"
     ]
    },
    {
     "name": "stderr",
     "output_type": "stream",
     "text": [
      "\r",
      " 34%|███▍      | 46/136 [01:52<04:03,  2.70s/it]"
     ]
    },
    {
     "name": "stdout",
     "output_type": "stream",
     "text": [
      "No data of 20170901 三芳\n"
     ]
    },
    {
     "name": "stderr",
     "output_type": "stream",
     "text": [
      " 34%|███▍      | 46/136 [01:56<03:47,  2.52s/it]\n",
      "  0%|          | 0/136 [00:00<?, ?it/s]"
     ]
    },
    {
     "name": "stdout",
     "output_type": "stream",
     "text": [
      "daily/1307_daily.csv下載完成...執行時間: 0:02:02.465381 秒\n",
      "1308 亞聚\n"
     ]
    },
    {
     "name": "stderr",
     "output_type": "stream",
     "text": [
      "\r",
      "  1%|          | 1/136 [00:04<09:04,  4.04s/it]"
     ]
    },
    {
     "name": "stdout",
     "output_type": "stream",
     "text": [
      "No data of 20210401 亞聚\n"
     ]
    },
    {
     "name": "stderr",
     "output_type": "stream",
     "text": [
      "\r",
      "  1%|▏         | 2/136 [00:08<09:02,  4.05s/it]"
     ]
    },
    {
     "name": "stdout",
     "output_type": "stream",
     "text": [
      "No data of 20210401 亞聚\n"
     ]
    },
    {
     "name": "stderr",
     "output_type": "stream",
     "text": [
      "\r",
      "  2%|▏         | 3/136 [00:12<08:57,  4.04s/it]"
     ]
    },
    {
     "name": "stdout",
     "output_type": "stream",
     "text": [
      "No data of 20210401 亞聚\n"
     ]
    },
    {
     "name": "stderr",
     "output_type": "stream",
     "text": [
      "  2%|▏         | 3/136 [00:16<11:57,  5.39s/it]\n"
     ]
    },
    {
     "ename": "UnboundLocalError",
     "evalue": "local variable 'StockPrice' referenced before assignment",
     "output_type": "error",
     "traceback": [
      "\u001b[1;31m---------------------------------------------------------------------------\u001b[0m",
      "\u001b[1;31mUnboundLocalError\u001b[0m                         Traceback (most recent call last)",
      "\u001b[1;32m<ipython-input-4-1b6386643e15>\u001b[0m in \u001b[0;36m<module>\u001b[1;34m\u001b[0m\n\u001b[0;32m     14\u001b[0m         \u001b[1;32mif\u001b[0m \u001b[0mint\u001b[0m\u001b[1;33m(\u001b[0m\u001b[0mobj\u001b[0m\u001b[1;33m[\u001b[0m\u001b[1;34m''\u001b[0m\u001b[1;33m]\u001b[0m\u001b[1;33m)\u001b[0m \u001b[1;33m>\u001b[0m \u001b[0mnum\u001b[0m \u001b[1;33m:\u001b[0m\u001b[1;33m\u001b[0m\u001b[1;33m\u001b[0m\u001b[0m\n\u001b[0;32m     15\u001b[0m             \u001b[0mprint\u001b[0m\u001b[1;33m(\u001b[0m\u001b[0mobj\u001b[0m\u001b[1;33m[\u001b[0m\u001b[1;34m'stock_id'\u001b[0m\u001b[1;33m]\u001b[0m\u001b[1;33m+\u001b[0m\u001b[1;34m\" \"\u001b[0m\u001b[1;33m+\u001b[0m\u001b[0mobj\u001b[0m\u001b[1;33m[\u001b[0m\u001b[1;34m'stock_name'\u001b[0m\u001b[1;33m]\u001b[0m\u001b[1;33m)\u001b[0m\u001b[1;33m\u001b[0m\u001b[1;33m\u001b[0m\u001b[0m\n\u001b[1;32m---> 16\u001b[1;33m             \u001b[0mStock_crawl\u001b[0m\u001b[1;33m(\u001b[0m\u001b[0mobj\u001b[0m\u001b[1;33m[\u001b[0m\u001b[1;34m'stock_id'\u001b[0m\u001b[1;33m]\u001b[0m\u001b[1;33m,\u001b[0m\u001b[0mobj\u001b[0m\u001b[1;33m[\u001b[0m\u001b[1;34m'stock_name'\u001b[0m\u001b[1;33m]\u001b[0m\u001b[1;33m)\u001b[0m\u001b[1;33m\u001b[0m\u001b[1;33m\u001b[0m\u001b[0m\n\u001b[0m\u001b[0;32m     17\u001b[0m \u001b[1;33m\u001b[0m\u001b[0m\n\u001b[0;32m     18\u001b[0m \u001b[1;31m#         print(obj['stock_id']+\" \"+obj['stock_name'])\u001b[0m\u001b[1;33m\u001b[0m\u001b[1;33m\u001b[0m\u001b[1;33m\u001b[0m\u001b[0m\n",
      "\u001b[1;32m<ipython-input-1-fe574105a162>\u001b[0m in \u001b[0;36mStock_crawl\u001b[1;34m(stockNo, Name)\u001b[0m\n\u001b[0;32m     88\u001b[0m \u001b[1;33m\u001b[0m\u001b[0m\n\u001b[0;32m     89\u001b[0m     \u001b[0mfile_name\u001b[0m \u001b[1;33m=\u001b[0m \u001b[1;34m\"daily/{}_daily.csv\"\u001b[0m\u001b[1;33m.\u001b[0m\u001b[0mformat\u001b[0m\u001b[1;33m(\u001b[0m\u001b[0mstockNo\u001b[0m\u001b[1;33m)\u001b[0m\u001b[1;33m\u001b[0m\u001b[1;33m\u001b[0m\u001b[0m\n\u001b[1;32m---> 90\u001b[1;33m     \u001b[0mStockPrice\u001b[0m\u001b[1;33m.\u001b[0m\u001b[0mto_csv\u001b[0m\u001b[1;33m(\u001b[0m\u001b[0mfile_name\u001b[0m\u001b[1;33m,\u001b[0m \u001b[0mindex\u001b[0m\u001b[1;33m=\u001b[0m\u001b[1;32mFalse\u001b[0m\u001b[1;33m)\u001b[0m\u001b[1;33m\u001b[0m\u001b[1;33m\u001b[0m\u001b[0m\n\u001b[0m\u001b[0;32m     91\u001b[0m     \u001b[0mprint\u001b[0m\u001b[1;33m(\u001b[0m\u001b[0mfile_name\u001b[0m\u001b[1;33m+\u001b[0m\u001b[1;34m\"下載完成...\"\u001b[0m\u001b[1;33m,\u001b[0m \u001b[0mend\u001b[0m\u001b[1;33m=\u001b[0m\u001b[1;34m\"\"\u001b[0m\u001b[1;33m)\u001b[0m\u001b[1;33m\u001b[0m\u001b[1;33m\u001b[0m\u001b[0m\n\u001b[0;32m     92\u001b[0m     \u001b[0mendtime\u001b[0m\u001b[1;33m=\u001b[0m \u001b[0mdatetime\u001b[0m\u001b[1;33m.\u001b[0m\u001b[0mnow\u001b[0m\u001b[1;33m(\u001b[0m\u001b[1;33m)\u001b[0m \u001b[1;31m#紀錄爬取該支股票要多久\u001b[0m\u001b[1;33m\u001b[0m\u001b[1;33m\u001b[0m\u001b[0m\n",
      "\u001b[1;31mUnboundLocalError\u001b[0m: local variable 'StockPrice' referenced before assignment"
     ]
    }
   ],
   "source": [
    "with open('stock_list.csv', encoding='UTF-8') as f:\n",
    "    list_of_stock = csv.DictReader(f)\n",
    "    \n",
    "    #設定之前已經載下來的股票代碼\n",
    "    stop = 1256\n",
    "    stop = str(stop)\n",
    "    num = 2000\n",
    "    \n",
    "    #找Index值，從成功的下一隻股票開始找\n",
    "    for obj in list_of_stock:\n",
    "        if obj['stock_id'] == stop:\n",
    "            num = int(obj[''])\n",
    "            continue\n",
    "        if int(obj['']) > num :\n",
    "            print(obj['stock_id']+\" \"+obj['stock_name'])\n",
    "            Stock_crawl(obj['stock_id'],obj['stock_name'])\n",
    "            \n",
    "#         print(obj['stock_id']+\" \"+obj['stock_name'])\n",
    "#     print(list_of_stock)\n",
    "#     for obj in list_of_stock:\n",
    "#     Stock_crawl(obj['stock_id'],obj['stock_name'])\n",
    "#     Stock_crawl(2603,\"長榮\")"
   ]
  },
  {
   "cell_type": "code",
   "execution_count": null,
   "metadata": {},
   "outputs": [],
   "source": [
    "import pandas as pd\n",
    "check = pd.read_csv('1101_daily.csv',sep=',')"
   ]
  },
  {
   "cell_type": "code",
   "execution_count": null,
   "metadata": {},
   "outputs": [],
   "source": [
    "check.info()"
   ]
  },
  {
   "cell_type": "code",
   "execution_count": null,
   "metadata": {},
   "outputs": [],
   "source": [
    "check.head()"
   ]
  },
  {
   "cell_type": "code",
   "execution_count": null,
   "metadata": {},
   "outputs": [],
   "source": [
    "import datetime\n",
    "now_time = datetime.datetime.now()\n",
    "now_time = datetime.datetime.now().strftime('%Y%m%d')\n",
    "print(now_time)\n",
    "\n",
    "if \"20210401\" > now_time:\n",
    "    print(\"False\")"
   ]
  },
  {
   "cell_type": "code",
   "execution_count": null,
   "metadata": {},
   "outputs": [],
   "source": [
    "import datetime\n",
    "\n",
    "dates=[]\n",
    "now_time = datetime.datetime.now().strftime('%Y%m%d')\n",
    "for i in range (2021,2022): #這行供小量測試。\n",
    "\n",
    "#     print(i) #確認一下\n",
    "    for j in range(1,13):\n",
    "        if j <10:\n",
    "            j=\"0\"+str(j)\n",
    "#         print(str(i)+str(j)) #確認一下\n",
    "        if  (str(i)+str(j)+str(\"01\")) > now_time:\n",
    "            break\n",
    "        \n",
    "        dates.append(str(i)+str(j)+str(\"01\"))\n",
    "print(dates) #確認一下， dates list 完成。"
   ]
  },
  {
   "cell_type": "code",
   "execution_count": null,
   "metadata": {},
   "outputs": [],
   "source": []
  },
  {
   "cell_type": "code",
   "execution_count": null,
   "metadata": {},
   "outputs": [],
   "source": []
  }
 ],
 "metadata": {
  "kernelspec": {
   "display_name": "Python 3",
   "language": "python",
   "name": "python3"
  },
  "language_info": {
   "codemirror_mode": {
    "name": "ipython",
    "version": 3
   },
   "file_extension": ".py",
   "mimetype": "text/x-python",
   "name": "python",
   "nbconvert_exporter": "python",
   "pygments_lexer": "ipython3",
   "version": "3.8.8"
  }
 },
 "nbformat": 4,
 "nbformat_minor": 4
}
