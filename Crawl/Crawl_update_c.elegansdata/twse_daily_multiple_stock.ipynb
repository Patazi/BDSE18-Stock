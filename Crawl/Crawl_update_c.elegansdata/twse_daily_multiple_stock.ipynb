{
 "cells": [
  {
   "cell_type": "markdown",
   "metadata": {},
   "source": [
    "# 證交所單股每日交易量\n",
    "表格說明：股票代碼/公司名稱/日期/成交量/成交金額/開盤價/最高價/最低價/收盤價/漲跌幅/交易筆數\n",
    "\n",
    "英文對照：stock_id/stock_name/date/Volume/Volume_Cash/Open/High/Low/Close/Change/Order"
   ]
  },
  {
   "cell_type": "code",
   "execution_count": 12,
   "metadata": {},
   "outputs": [],
   "source": [
    "def Stock_crawl(stockNo,Name):\n",
    "    import pandas as pd\n",
    "    import numpy as np\n",
    "    import json\n",
    "    import requests\n",
    "    import time\n",
    "    import random\n",
    "    from datetime import datetime\n",
    "\n",
    "    dates=[]\n",
    "    for i in range (2010,2022):\n",
    "#     for i in range (2021,2022): #這行供小量測試。\n",
    "\n",
    "    #     print(i) #確認一下\n",
    "        for j in range(1,13):\n",
    "            if j <10:\n",
    "                j=\"0\"+str(j)\n",
    "    #         print(str(i)+str(j)) #確認一下\n",
    "            dates.append(str(i)+str(j)+str(\"01\"))\n",
    "    #print(dates) #確認一下， dates list 完成。\n",
    "    starttime=datetime.now() #紀錄多久\n",
    "\n",
    "    json_list=[]\n",
    "    json_data=[]\n",
    "    for Date in dates:\n",
    "        try:\n",
    "            url = f'https://www.twse.com.tw/exchangeReport/STOCK_DAY?response=json&date={Date}&stockNo={stockNo}'\n",
    "\n",
    "            data = requests.get(url).text\n",
    "            json_data = json.loads(data)\n",
    "            json_list.append(json_data['data'])\n",
    "            time.sleep (random.randrange(1, 10))\n",
    "        except:\n",
    "            print(\"No data of\",Date,Name)\n",
    "            time.sleep (random.randrange(1, 10))\n",
    "    try:\n",
    "        json=[] \n",
    "        json_stock=[]\n",
    "        for i in range (0, len(json_list)):\n",
    "            for j in range(0,len(json_list[i])):\n",
    "                json_stock.append(json_list[i][j])\n",
    "\n",
    "        for j in range(0,(len(json_stock))):\n",
    "            StockPrice = pd.DataFrame(json_stock, columns = ['date','Volume','Volume_Cash','Open','High','Low','Close','Change','Order'])\n",
    "\n",
    "            StockPrice['date'] = StockPrice['date'].str.replace('/','').astype(int) + 19110000\n",
    "            StockPrice['date'] = pd.to_datetime(StockPrice['date'].astype(str))\n",
    "            StockPrice['Volume'] = StockPrice['Volume'].str.replace(',','').astype(float)\n",
    "            StockPrice['Volume_Cash'] = StockPrice['Volume_Cash'].str.replace(',','').astype(float)\n",
    "            StockPrice['Order'] = StockPrice['Order'].str.replace(',','').astype(float)\n",
    "\n",
    "            StockPrice['Open'] = StockPrice['Open'].str.replace(',','').astype(float)\n",
    "            StockPrice['High'] = StockPrice['High'].str.replace(',','').astype(float)\n",
    "            StockPrice['Low'] = StockPrice['Low'].str.replace(',','').astype(float)\n",
    "            StockPrice['Close'] = StockPrice['Close'].str.replace(',','').astype(float)\n",
    "            StockPrice['Change'] = StockPrice['Change'].str.replace(',','').str.replace('+','').str.replace('X','').astype(float)\n",
    "            StockPrice.insert(0,column='stock_id',value=stockNo)\n",
    "            StockPrice.insert(1,column='stock_name',value=Name)\n",
    "            StockPrice = StockPrice[['stock_id','stock_name','date','Volume','Volume_Cash','Open','High','Low','Close','Change','Order']]\n",
    "            #中文對照：股票代碼/公司名稱/日期/成交量/成交金額/開盤價/最高價/最低價/收盤價/漲跌幅/交易筆數\n",
    "    except:\n",
    "        print(\"Woops, Something wrong~\")\n",
    "\n",
    "    file_name = \"{}_daily.csv\".format(stockNo)\n",
    "    StockPrice.to_csv(file_name, index=False)\n",
    "    print(file_name+\"下載完成...\", end=\"\")\n",
    "    endtime= datetime.now() #紀錄爬取該支股票要多久\n",
    "    print(\"執行時間:\",endtime-starttime,\"秒\") #紀錄爬取該支股票要多久\n",
    "    #1101_daily.csv下載完成...執行時間: 0:11:54.074818 秒\n",
    "    #1102_daily.csv下載完成...執行時間: 0:12:47.176578 秒"
   ]
  },
  {
   "cell_type": "code",
   "execution_count": 14,
   "metadata": {},
   "outputs": [
    {
     "name": "stdout",
     "output_type": "stream",
     "text": [
      "No data of 20210501 台泥\n",
      "No data of 20210601 台泥\n",
      "No data of 20210701 台泥\n",
      "No data of 20210801 台泥\n",
      "No data of 20210901 台泥\n",
      "No data of 20211001 台泥\n",
      "No data of 20211101 台泥\n",
      "No data of 20211201 台泥\n",
      "1101_daily.csv下載完成...執行時間: 0:01:03.182115 秒\n"
     ]
    }
   ],
   "source": [
    "import csv\n",
    "# with open('stock_list_for_test.csv') as f:#供小型測試用\n",
    "with open('stock_list.csv') as f:\n",
    "    list_of_stock = csv.DictReader(f)\n",
    "    for obj in list_of_stock:\n",
    "        Stock_crawl(obj['stock_id'],obj['stock_name'])"
   ]
  }
 ],
 "metadata": {
  "kernelspec": {
   "display_name": "Python 3",
   "language": "python",
   "name": "python3"
  },
  "language_info": {
   "codemirror_mode": {
    "name": "ipython",
    "version": 3
   },
   "file_extension": ".py",
   "mimetype": "text/x-python",
   "name": "python",
   "nbconvert_exporter": "python",
   "pygments_lexer": "ipython3",
   "version": "3.8.5"
  }
 },
 "nbformat": 4,
 "nbformat_minor": 4
}
