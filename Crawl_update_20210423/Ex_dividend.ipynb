{
 "cells": [
  {
   "cell_type": "markdown",
   "id": "52dff62d",
   "metadata": {},
   "source": [
    "# Goodinfo! 還原股價股價與資料處理\n",
    "表格說明：股票代碼/公司名稱/日期/除息參考價\n",
    "\n",
    "英文對照：stock_id/stock_name/date/reference_price"
   ]
  },
  {
   "cell_type": "code",
   "execution_count": 30,
   "id": "f87c8ed4",
   "metadata": {},
   "outputs": [],
   "source": [
    "def Ex_dividend(stockNo,Name):\n",
    "    import requests\n",
    "    import pandas as pd\n",
    "    from bs4 import BeautifulSoup\n",
    "    import time\n",
    "    from datetime import datetime\n",
    "    import random\n",
    "    starttime=datetime.now()#紀錄爬取該支股票要多久\n",
    "\n",
    "    url='https://goodinfo.tw/StockInfo/StockDividendSchedule.asp?STOCK_ID='+stockNo\n",
    "\n",
    "    headers = {'User-Agent': 'Mozilla/5.0 (Macintosh; Intel Mac OS X 10_15_6) AppleWebKit/537.36 (KHTML, like Gecko) Chrome/84.0.4147.135 Safari/537.36'\n",
    "    }\n",
    "    res = requests.get(url, headers = headers)\n",
    "    res.encoding ='utf-8'\n",
    "    soup = BeautifulSoup(res.text, 'lxml') \n",
    "\n",
    "    data = soup.select_one('div#divDetail')\n",
    "    # print(res.text)#確認一下\n",
    "    dfs = pd.read_html(data.prettify())\n",
    "    df = dfs[0]\n",
    "    df.insert(0,column=\"有價證券代號\",value=stockNo)\n",
    "    df.insert(1,column=\"名稱\",value=Name)\n",
    "    df.columns=[\"有價證券代號\",\"名稱\",'股利發放年度','股利所屬盈餘期間','股東會日期','除息交易日','除息參考價','填息完成日','填息花費日數','現金股利發放日','除權交易日','除權參考價','填權完成日','填權花費日數','現金股利盈餘','現金股利公積','現金股利合計','股票股利盈餘','股票股利公積','股票股利合計','股利合計']\n",
    "    # time.sleep (random.randrange(1, 16))# 據網路上爬取過的使用者分享，爬取間隔 15 sec 比較不容易被擋，之後大量爬取時再解開這行註解。\n",
    "\n",
    "    # mask = df['除息交易日'].isnull() != True #除息交易日也有空值的時候\n",
    "\n",
    "    mask = df['除息參考價'].isnull() != True\n",
    "    df2 = df[mask].reset_index(drop=True)\n",
    "    df2['除息交易日']=df2['除息交易日'].str.replace('即將除息','').str.replace(\"/\",\"\").str.replace(\" \",\"\")\n",
    "\n",
    "    df2['除息交易日']= df2['除息交易日'].astype(str).str.split(\"'\").str.get(1).astype(str)\n",
    "    df2['股利發放年度']=df2['股利發放年度'].astype(str)\n",
    "    df2['除息交易日']=pd.to_datetime((df2['股利發放年度']+df2['除息交易日']).astype(str))\n",
    "    df2=df2[['有價證券代號','名稱','除息交易日','除息參考價']]\n",
    "    df2.columns=['stock_id','stock_name','date','reference_price']\n",
    "    #中文對照：股票代碼/公司名稱/除息交易日/除息參考價\n",
    "\n",
    "    file_name = \"{}_Ex_dividend.csv\".format(stockNo)\n",
    "    df2.to_csv(file_name, index=False)\n",
    "    print(file_name+\"下載完成...\", end=\"\")\n",
    "    endtime= datetime.now()#紀錄爬取該支股票要多久\n",
    "    print(\"執行時間:\",endtime-starttime,\"秒\")#紀錄爬取該支股票要多久"
   ]
  },
  {
   "cell_type": "code",
   "execution_count": 31,
   "id": "edbcc08e",
   "metadata": {},
   "outputs": [
    {
     "name": "stdout",
     "output_type": "stream",
     "text": [
      "1101_Ex_dividend.csv下載完成...執行時間: 0:00:00.960567 秒\n",
      "1102_Ex_dividend.csv下載完成...執行時間: 0:00:00.847331 秒\n",
      "1103_Ex_dividend.csv下載完成...執行時間: 0:00:00.747139 秒\n"
     ]
    }
   ],
   "source": [
    "import csv\n",
    "# with open('stock_list_for_test.csv') as f:#供小型測試用\n",
    "with open('stock_list.csv') as f:\n",
    "    list_of_stock = csv.DictReader(f)\n",
    "    for obj in list_of_stock:\n",
    "        Ex_dividend(obj['stock_id'],obj['stock_name'])"
   ]
  }
 ],
 "metadata": {
  "kernelspec": {
   "display_name": "Python 3",
   "language": "python",
   "name": "python3"
  },
  "language_info": {
   "codemirror_mode": {
    "name": "ipython",
    "version": 3
   },
   "file_extension": ".py",
   "mimetype": "text/x-python",
   "name": "python",
   "nbconvert_exporter": "python",
   "pygments_lexer": "ipython3",
   "version": "3.8.5"
  }
 },
 "nbformat": 4,
 "nbformat_minor": 5
}
