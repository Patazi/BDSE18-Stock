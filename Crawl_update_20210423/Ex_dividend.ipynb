{
 "cells": [
  {
   "cell_type": "markdown",
   "id": "52dff62d",
   "metadata": {},
   "source": [
    "# Goodinfo! 還原股價股價與資料處理"
   ]
  },
  {
   "cell_type": "code",
   "execution_count": 30,
   "id": "f87c8ed4",
   "metadata": {},
   "outputs": [],
   "source": [
    "def Ex_dividend(stockNo,Name):\n",
    "    import requests\n",
    "    import pandas as pd\n",
    "    from bs4 import BeautifulSoup\n",
    "    import time\n",
    "    from datetime import datetime\n",
    "    import random\n",
    "    starttime=datetime.now()#紀錄爬取該支股票要多久\n",
    "\n",
    "    url='https://goodinfo.tw/StockInfo/StockDividendSchedule.asp?STOCK_ID='+stockNo\n",
    "\n",
    "    headers = {'User-Agent': 'Mozilla/5.0 (Macintosh; Intel Mac OS X 10_15_6) AppleWebKit/537.36 (KHTML, like Gecko) Chrome/84.0.4147.135 Safari/537.36'\n",
    "    }\n",
    "    res = requests.get(url, headers = headers)\n",
    "    res.encoding ='utf-8'\n",
    "    soup = BeautifulSoup(res.text, 'lxml') \n",
    "\n",
    "    data = soup.select_one('div#divDetail')\n",
    "    # print(res.text)#確認一下\n",
    "    dfs = pd.read_html(data.prettify())\n",
    "    df = dfs[0]\n",
    "    df.insert(0,column=\"有價證券代號\",value=stockNo)\n",
    "    df.insert(1,column=\"名稱\",value=Name)\n",
    "    df.columns=[\"有價證券代號\",\"名稱\",'股利發放年度','股利所屬盈餘期間','股東會日期','除息交易日','除息參考價','填息完成日','填息花費日數','現金股利發放日','除權交易日','除權參考價','填權完成日','填權花費日數','現金股利盈餘','現金股利公積','現金股利合計','股票股利盈餘','股票股利公積','股票股利合計','股利合計']\n",
    "    # time.sleep (random.randrange(1, 16))# 據網路上爬取過的使用者分享，爬取間隔 15 sec 比較不容易被擋，之後大量爬取時再解開這行註解。\n",
    "\n",
    "    # mask = df['除息交易日'].isnull() != True #除息交易日也有空值的時候\n",
    "\n",
    "    mask = df['除息參考價'].isnull() != True\n",
    "    df2 = df[mask].reset_index(drop=True)\n",
    "    df2['除息交易日']=df2['除息交易日'].str.replace('即將除息','').str.replace(\"/\",\"\").str.replace(\" \",\"\")\n",
    "\n",
    "    df2['除息交易日']= df2['除息交易日'].astype(str).str.split(\"'\").str.get(1).astype(str)\n",
    "    df2['股利發放年度']=df2['股利發放年度'].astype(str)\n",
    "    df2['除息交易日']=pd.to_datetime((df2['股利發放年度']+df2['除息交易日']).astype(str))\n",
    "    df2=df2[['有價證券代號','名稱','除息交易日','除息參考價']]\n",
    "    df2.columns=['stock_id','stock_name','date','reference_price']\n",
    "    #中文對照：股票代碼/公司名稱/除息交易日/除息參考價\n",
    "\n",
    "    file_name = \"{}_Ex_dividend.csv\".format(stockNo)\n",
    "    df2.to_csv(file_name, index=False)\n",
    "    print(file_name+\"下載完成...\", end=\"\")\n",
    "    endtime= datetime.now()#紀錄爬取該支股票要多久\n",
    "    print(\"執行時間:\",endtime-starttime,\"秒\")#紀錄爬取該支股票要多久"
   ]
  },
  {
   "cell_type": "code",
   "execution_count": 31,
   "id": "edbcc08e",
   "metadata": {},
   "outputs": [
    {
     "name": "stdout",
     "output_type": "stream",
     "text": [
      "1101_Ex_dividend.csv下載完成...執行時間: 0:00:00.960567 秒\n",
      "1102_Ex_dividend.csv下載完成...執行時間: 0:00:00.847331 秒\n",
      "1103_Ex_dividend.csv下載完成...執行時間: 0:00:00.747139 秒\n"
     ]
    }
   ],
   "source": [
    "import csv\n",
    "with open('stock_list.csv') as f:\n",
    "    list_of_stock = csv.DictReader(f)\n",
    "    for obj in list_of_stock:\n",
    "        Ex_dividend(obj['stock_id'],obj['stock_name'])"
   ]
  },
  {
   "cell_type": "code",
   "execution_count": 32,
   "id": "d8df40ba",
   "metadata": {},
   "outputs": [],
   "source": [
    "import pandas as pd\n",
    "check = pd.read_csv('1101_Ex_dividend.csv',sep=',')"
   ]
  },
  {
   "cell_type": "code",
   "execution_count": 33,
   "id": "d1ce50ab",
   "metadata": {},
   "outputs": [
    {
     "name": "stdout",
     "output_type": "stream",
     "text": [
      "<class 'pandas.core.frame.DataFrame'>\n",
      "RangeIndex: 26 entries, 0 to 25\n",
      "Data columns (total 4 columns):\n",
      " #   Column           Non-Null Count  Dtype  \n",
      "---  ------           --------------  -----  \n",
      " 0   stock_id         26 non-null     int64  \n",
      " 1   stock_name       26 non-null     object \n",
      " 2   date             26 non-null     object \n",
      " 3   reference_price  26 non-null     float64\n",
      "dtypes: float64(1), int64(1), object(2)\n",
      "memory usage: 960.0+ bytes\n"
     ]
    }
   ],
   "source": [
    "check.info()"
   ]
  },
  {
   "cell_type": "code",
   "execution_count": 34,
   "id": "86aa0d37",
   "metadata": {},
   "outputs": [
    {
     "data": {
      "text/html": [
       "<div>\n",
       "<style scoped>\n",
       "    .dataframe tbody tr th:only-of-type {\n",
       "        vertical-align: middle;\n",
       "    }\n",
       "\n",
       "    .dataframe tbody tr th {\n",
       "        vertical-align: top;\n",
       "    }\n",
       "\n",
       "    .dataframe thead th {\n",
       "        text-align: right;\n",
       "    }\n",
       "</style>\n",
       "<table border=\"1\" class=\"dataframe\">\n",
       "  <thead>\n",
       "    <tr style=\"text-align: right;\">\n",
       "      <th></th>\n",
       "      <th>stock_id</th>\n",
       "      <th>stock_name</th>\n",
       "      <th>date</th>\n",
       "      <th>reference_price</th>\n",
       "    </tr>\n",
       "  </thead>\n",
       "  <tbody>\n",
       "    <tr>\n",
       "      <th>0</th>\n",
       "      <td>1101</td>\n",
       "      <td>台泥</td>\n",
       "      <td>2020-08-12</td>\n",
       "      <td>41.90</td>\n",
       "    </tr>\n",
       "    <tr>\n",
       "      <th>1</th>\n",
       "      <td>1101</td>\n",
       "      <td>台泥</td>\n",
       "      <td>2019-08-13</td>\n",
       "      <td>38.00</td>\n",
       "    </tr>\n",
       "    <tr>\n",
       "      <th>2</th>\n",
       "      <td>1101</td>\n",
       "      <td>台泥</td>\n",
       "      <td>2018-07-26</td>\n",
       "      <td>39.65</td>\n",
       "    </tr>\n",
       "    <tr>\n",
       "      <th>3</th>\n",
       "      <td>1101</td>\n",
       "      <td>台泥</td>\n",
       "      <td>2017-07-25</td>\n",
       "      <td>34.55</td>\n",
       "    </tr>\n",
       "    <tr>\n",
       "      <th>4</th>\n",
       "      <td>1101</td>\n",
       "      <td>台泥</td>\n",
       "      <td>2016-07-25</td>\n",
       "      <td>33.50</td>\n",
       "    </tr>\n",
       "  </tbody>\n",
       "</table>\n",
       "</div>"
      ],
      "text/plain": [
       "   stock_id stock_name        date  reference_price\n",
       "0      1101         台泥  2020-08-12            41.90\n",
       "1      1101         台泥  2019-08-13            38.00\n",
       "2      1101         台泥  2018-07-26            39.65\n",
       "3      1101         台泥  2017-07-25            34.55\n",
       "4      1101         台泥  2016-07-25            33.50"
      ]
     },
     "execution_count": 34,
     "metadata": {},
     "output_type": "execute_result"
    }
   ],
   "source": [
    "check.head()"
   ]
  }
 ],
 "metadata": {
  "kernelspec": {
   "display_name": "Python 3",
   "language": "python",
   "name": "python3"
  },
  "language_info": {
   "codemirror_mode": {
    "name": "ipython",
    "version": 3
   },
   "file_extension": ".py",
   "mimetype": "text/x-python",
   "name": "python",
   "nbconvert_exporter": "python",
   "pygments_lexer": "ipython3",
   "version": "3.8.5"
  }
 },
 "nbformat": 4,
 "nbformat_minor": 5
}
