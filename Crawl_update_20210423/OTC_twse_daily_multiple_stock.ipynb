{
 "cells": [
  {
   "cell_type": "markdown",
   "id": "b5627ed2",
   "metadata": {},
   "source": [
    "# 單股每日交易量\n",
    "表格說明：股票代碼/公司名稱/日期/成交量/成交金額/開盤價/最高價/最低價/收盤價/漲跌幅/交易筆數\n",
    "英文對照：stock_id/stock_name/date/Volume/Volume_Cash/Open/High/Low/Close/Change/Order"
   ]
  },
  {
   "cell_type": "code",
   "execution_count": 19,
   "id": "da11ce02",
   "metadata": {},
   "outputs": [],
   "source": [
    "def Stock_crawl_OTC(stockNo,Name):\n",
    "    import csv\n",
    "    import requests\n",
    "    import pandas as pd\n",
    "    import numpy as np\n",
    "    import json as js \n",
    "    import time\n",
    "    import random\n",
    "    from datetime import datetime\n",
    "    from tqdm import trange,tqdm\n",
    "\n",
    "    starttime= datetime.now() #紀錄多久\n",
    "    dates=[]\n",
    "    # 獲取今天日期\n",
    "    now_time = datetime.now().strftime('%Y%m%d')\n",
    "    now_time\n",
    "\n",
    "    url = \"https://api.finmindtrade.com/api/v4/data\"\n",
    "    parameter = {\n",
    "        \"dataset\": \"TaiwanStockPrice\",\n",
    "        \"data_id\": stockNo,\n",
    "        \"start_date\": \"2010-01-01\",\n",
    "        \"end_date\": now_time,\n",
    "        \"token\": \"\", # 參考登入，獲取金鑰\n",
    "    }\n",
    "    resp = requests.get(url, params=parameter)\n",
    "    data = resp.json()\n",
    "    data = pd.DataFrame(data[\"data\"])\n",
    "    # print(data.head())\n",
    "    # print(data.info())\n",
    "    data=data[['stock_id','date','Trading_Volume','Trading_money','open','max','min','close','spread','Trading_turnover']]\n",
    "    data.insert(1,column='stock_name',value=Name)\n",
    "    data['Trading_Volume']=data['Trading_Volume'].astype(float)\n",
    "    data['Trading_money']=data['Trading_money'].astype(float)\n",
    "    data['Trading_turnover']=data['Trading_turnover'].astype(float)\n",
    "    data.columns=['stock_id','stock_name','date','Volume','Volume_Cash','Open','High','Low','Close','Change','Order']\n",
    "\n",
    "    file_name = \"daily/{}_daily.csv\".format(stockNo)\n",
    "    data.to_csv(file_name, index=False)\n",
    "    print(file_name+\"下載完成...\", end=\"\")\n",
    "    endtime= datetime.now() #紀錄爬取該支股票要多久\n",
    "    print(\"執行時間:\",endtime-starttime,\"秒\") #紀錄爬取該支股票要多久"
   ]
  },
  {
   "cell_type": "code",
   "execution_count": 20,
   "id": "e2899d7d",
   "metadata": {},
   "outputs": [
    {
     "name": "stdout",
     "output_type": "stream",
     "text": [
      "daily/4163_daily.csv下載完成...執行時間: 0:00:04.437987 秒\n",
      "daily/4167_daily.csv下載完成...執行時間: 0:00:02.103617 秒\n"
     ]
    }
   ],
   "source": [
    "import csv\n",
    "# with open('stock_list_for_test.csv') as f:#供小型測試用\n",
    "with open('stock_list.csv') as f:\n",
    "    list_of_stock = csv.DictReader(f)\n",
    "    for obj in list_of_stock:\n",
    "        Stock_crawl_OTC(obj['stock_id'],obj['stock_name'])"
   ]
  }
 ],
 "metadata": {
  "kernelspec": {
   "display_name": "Python 3",
   "language": "python",
   "name": "python3"
  },
  "language_info": {
   "codemirror_mode": {
    "name": "ipython",
    "version": 3
   },
   "file_extension": ".py",
   "mimetype": "text/x-python",
   "name": "python",
   "nbconvert_exporter": "python",
   "pygments_lexer": "ipython3",
   "version": "3.8.5"
  }
 },
 "nbformat": 4,
 "nbformat_minor": 5
}
