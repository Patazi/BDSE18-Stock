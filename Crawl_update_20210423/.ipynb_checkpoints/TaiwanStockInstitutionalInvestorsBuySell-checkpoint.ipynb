{
 "cells": [
  {
   "cell_type": "code",
   "execution_count": 1,
   "id": "30c76014",
   "metadata": {},
   "outputs": [],
   "source": [
    "#法人買賣表 TaiwanStockInstitutionalInvestorsBuySell"
   ]
  },
  {
   "cell_type": "code",
   "execution_count": 4,
   "id": "0eda518f",
   "metadata": {},
   "outputs": [],
   "source": [
    "import requests\n",
    "import pandas as pd\n",
    "url = \"https://api.finmindtrade.com/api/v4/data\"\n",
    "parameter = {\n",
    "    \"dataset\": \"TaiwanStockInstitutionalInvestorsBuySell\",\n",
    "    \"data_id\": \"2330\",\n",
    "    \"start_date\": \"2010-01-01\",\n",
    "    \"token\": \"\", # 參考登入，獲取金鑰\n",
    "}\n",
    "data = requests.get(url, params=parameter)\n",
    "data = data.json()\n",
    "data = pd.DataFrame(data['data'])"
   ]
  },
  {
   "cell_type": "code",
   "execution_count": 5,
   "id": "0d008ad3",
   "metadata": {
    "scrolled": true
   },
   "outputs": [
    {
     "data": {
      "text/html": [
       "<div>\n",
       "<style scoped>\n",
       "    .dataframe tbody tr th:only-of-type {\n",
       "        vertical-align: middle;\n",
       "    }\n",
       "\n",
       "    .dataframe tbody tr th {\n",
       "        vertical-align: top;\n",
       "    }\n",
       "\n",
       "    .dataframe thead th {\n",
       "        text-align: right;\n",
       "    }\n",
       "</style>\n",
       "<table border=\"1\" class=\"dataframe\">\n",
       "  <thead>\n",
       "    <tr style=\"text-align: right;\">\n",
       "      <th></th>\n",
       "      <th>date</th>\n",
       "      <th>stock_id</th>\n",
       "      <th>buy</th>\n",
       "      <th>name</th>\n",
       "      <th>sell</th>\n",
       "    </tr>\n",
       "  </thead>\n",
       "  <tbody>\n",
       "    <tr>\n",
       "      <th>0</th>\n",
       "      <td>2012-05-02</td>\n",
       "      <td>2330</td>\n",
       "      <td>1774000</td>\n",
       "      <td>Dealer</td>\n",
       "      <td>1043000</td>\n",
       "    </tr>\n",
       "    <tr>\n",
       "      <th>1</th>\n",
       "      <td>2012-05-02</td>\n",
       "      <td>2330</td>\n",
       "      <td>38841300</td>\n",
       "      <td>Foreign_Investor</td>\n",
       "      <td>32897643</td>\n",
       "    </tr>\n",
       "    <tr>\n",
       "      <th>2</th>\n",
       "      <td>2012-05-02</td>\n",
       "      <td>2330</td>\n",
       "      <td>284000</td>\n",
       "      <td>Investment_Trust</td>\n",
       "      <td>272000</td>\n",
       "    </tr>\n",
       "    <tr>\n",
       "      <th>3</th>\n",
       "      <td>2012-05-03</td>\n",
       "      <td>2330</td>\n",
       "      <td>456000</td>\n",
       "      <td>Dealer</td>\n",
       "      <td>620000</td>\n",
       "    </tr>\n",
       "    <tr>\n",
       "      <th>4</th>\n",
       "      <td>2012-05-03</td>\n",
       "      <td>2330</td>\n",
       "      <td>19686790</td>\n",
       "      <td>Foreign_Investor</td>\n",
       "      <td>12947290</td>\n",
       "    </tr>\n",
       "    <tr>\n",
       "      <th>...</th>\n",
       "      <td>...</td>\n",
       "      <td>...</td>\n",
       "      <td>...</td>\n",
       "      <td>...</td>\n",
       "      <td>...</td>\n",
       "    </tr>\n",
       "    <tr>\n",
       "      <th>8992</th>\n",
       "      <td>2021-04-22</td>\n",
       "      <td>2330</td>\n",
       "      <td>0</td>\n",
       "      <td>Foreign_Dealer_Self</td>\n",
       "      <td>0</td>\n",
       "    </tr>\n",
       "    <tr>\n",
       "      <th>8993</th>\n",
       "      <td>2021-04-22</td>\n",
       "      <td>2330</td>\n",
       "      <td>434994</td>\n",
       "      <td>Dealer_self</td>\n",
       "      <td>771372</td>\n",
       "    </tr>\n",
       "    <tr>\n",
       "      <th>8994</th>\n",
       "      <td>2021-04-22</td>\n",
       "      <td>2330</td>\n",
       "      <td>130000</td>\n",
       "      <td>Dealer_Hedging</td>\n",
       "      <td>251368</td>\n",
       "    </tr>\n",
       "    <tr>\n",
       "      <th>8995</th>\n",
       "      <td>2021-04-22</td>\n",
       "      <td>2330</td>\n",
       "      <td>20715816</td>\n",
       "      <td>Foreign_Investor</td>\n",
       "      <td>19081251</td>\n",
       "    </tr>\n",
       "    <tr>\n",
       "      <th>8996</th>\n",
       "      <td>2021-04-22</td>\n",
       "      <td>2330</td>\n",
       "      <td>54063</td>\n",
       "      <td>Investment_Trust</td>\n",
       "      <td>608000</td>\n",
       "    </tr>\n",
       "  </tbody>\n",
       "</table>\n",
       "<p>8997 rows × 5 columns</p>\n",
       "</div>"
      ],
      "text/plain": [
       "            date stock_id       buy                 name      sell\n",
       "0     2012-05-02     2330   1774000               Dealer   1043000\n",
       "1     2012-05-02     2330  38841300     Foreign_Investor  32897643\n",
       "2     2012-05-02     2330    284000     Investment_Trust    272000\n",
       "3     2012-05-03     2330    456000               Dealer    620000\n",
       "4     2012-05-03     2330  19686790     Foreign_Investor  12947290\n",
       "...          ...      ...       ...                  ...       ...\n",
       "8992  2021-04-22     2330         0  Foreign_Dealer_Self         0\n",
       "8993  2021-04-22     2330    434994          Dealer_self    771372\n",
       "8994  2021-04-22     2330    130000       Dealer_Hedging    251368\n",
       "8995  2021-04-22     2330  20715816     Foreign_Investor  19081251\n",
       "8996  2021-04-22     2330     54063     Investment_Trust    608000\n",
       "\n",
       "[8997 rows x 5 columns]"
      ]
     },
     "execution_count": 5,
     "metadata": {},
     "output_type": "execute_result"
    }
   ],
   "source": [
    "data"
   ]
  },
  {
   "cell_type": "code",
   "execution_count": 7,
   "id": "d74d3607",
   "metadata": {},
   "outputs": [
    {
     "name": "stdout",
     "output_type": "stream",
     "text": [
      "<class 'pandas.core.frame.DataFrame'>\n",
      "RangeIndex: 8997 entries, 0 to 8996\n",
      "Data columns (total 5 columns):\n",
      " #   Column    Non-Null Count  Dtype \n",
      "---  ------    --------------  ----- \n",
      " 0   date      8997 non-null   object\n",
      " 1   stock_id  8997 non-null   object\n",
      " 2   buy       8997 non-null   int64 \n",
      " 3   name      8997 non-null   object\n",
      " 4   sell      8997 non-null   int64 \n",
      "dtypes: int64(2), object(3)\n",
      "memory usage: 351.6+ KB\n"
     ]
    }
   ],
   "source": [
    "data.info()"
   ]
  },
  {
   "cell_type": "code",
   "execution_count": 3,
   "id": "2e6d64ad",
   "metadata": {},
   "outputs": [
    {
     "ename": "IndentationError",
     "evalue": "unexpected indent (<ipython-input-3-c8ae9d1d46c4>, line 4)",
     "output_type": "error",
     "traceback": [
      "\u001b[0;36m  File \u001b[0;32m\"<ipython-input-3-c8ae9d1d46c4>\"\u001b[0;36m, line \u001b[0;32m4\u001b[0m\n\u001b[0;31m    import requests\u001b[0m\n\u001b[0m    ^\u001b[0m\n\u001b[0;31mIndentationError\u001b[0m\u001b[0;31m:\u001b[0m unexpected indent\n"
     ]
    }
   ],
   "source": [
    "#表格格式：日期/股票代碼/買進/類別/賣出\n",
    "#英文對照：date/stock_id/buy/name/sell/\n",
    "# def Ex_dividend(stockNo,Name):\n",
    "    \n",
    "#     file_name = \"{}_daily.csv\".format(stockNo)\n",
    "#     StockPrice.to_csv(file_name, index=False)\n",
    "#     print(file_name+\"下載完成...\", end=\"\")\n",
    "#     print(data.head())\n",
    "    print(data.info())"
   ]
  },
  {
   "cell_type": "code",
   "execution_count": 15,
   "id": "6a548239",
   "metadata": {},
   "outputs": [],
   "source": [
    "import pandas as pd\n",
    "df2 = pd.read_csv('1101_Ex_dividend.csv',sep=',')"
   ]
  },
  {
   "cell_type": "code",
   "execution_count": 16,
   "id": "d1407166",
   "metadata": {},
   "outputs": [
    {
     "name": "stdout",
     "output_type": "stream",
     "text": [
      "<class 'pandas.core.frame.DataFrame'>\n",
      "RangeIndex: 26 entries, 0 to 25\n",
      "Data columns (total 4 columns):\n",
      " #   Column           Non-Null Count  Dtype  \n",
      "---  ------           --------------  -----  \n",
      " 0   stock_id         26 non-null     int64  \n",
      " 1   stock_name       26 non-null     object \n",
      " 2   date             26 non-null     object \n",
      " 3   reference_price  26 non-null     float64\n",
      "dtypes: float64(1), int64(1), object(2)\n",
      "memory usage: 960.0+ bytes\n"
     ]
    }
   ],
   "source": [
    "df2.info()"
   ]
  },
  {
   "cell_type": "code",
   "execution_count": null,
   "id": "fd803383",
   "metadata": {},
   "outputs": [],
   "source": [
    "import csv\n",
    "with open('stock_list.csv') as f:\n",
    "    list_of_stock = csv.DictReader(f)\n",
    "    for obj in list_of_stock:\n",
    "        Ex_dividend(obj['stock_id'],obj['stock_name'])"
   ]
  }
 ],
 "metadata": {
  "kernelspec": {
   "display_name": "Python 3",
   "language": "python",
   "name": "python3"
  },
  "language_info": {
   "codemirror_mode": {
    "name": "ipython",
    "version": 3
   },
   "file_extension": ".py",
   "mimetype": "text/x-python",
   "name": "python",
   "nbconvert_exporter": "python",
   "pygments_lexer": "ipython3",
   "version": "3.8.5"
  }
 },
 "nbformat": 4,
 "nbformat_minor": 5
}
