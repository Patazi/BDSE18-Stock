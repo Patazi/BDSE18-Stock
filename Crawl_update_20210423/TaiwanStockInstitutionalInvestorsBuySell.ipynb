{
 "cells": [
  {
   "cell_type": "markdown",
   "id": "85a9d1c0",
   "metadata": {},
   "source": [
    "# 法人買賣表 TaiwanStockInstitutionalInvestorsBuySell\n",
    "## FindMind\n",
    "表格格式：股票代碼/公司名稱/日期/買進/類別/賣出\n",
    "\n",
    "英文對照：stock_id/stock_name/date/buy/name/sell"
   ]
  },
  {
   "cell_type": "code",
   "execution_count": 12,
   "id": "8c65057b",
   "metadata": {},
   "outputs": [],
   "source": [
    "def InstitutionalInvestorsBuySell(stockNo,Name):\n",
    "    import time\n",
    "    from datetime import datetime\n",
    "    import requests\n",
    "    import pandas as pd\n",
    "    starttime=datetime.now()#紀錄爬取該支股票要多久\n",
    "    url = \"https://api.finmindtrade.com/api/v4/data\"\n",
    "    parameter = {\n",
    "        \"dataset\": \"TaiwanStockInstitutionalInvestorsBuySell\",\n",
    "        \"data_id\": stockNo,\n",
    "        \"start_date\": \"2000-01-01\",\n",
    "        \"token\": \"\", # 參考登入，獲取金鑰\n",
    "    }\n",
    "    data = requests.get(url, params=parameter)\n",
    "    data = data.json()\n",
    "    data = pd.DataFrame(data['data'])\n",
    "    data['buy']=data['buy'].astype(float)\n",
    "    data['sell']=data['sell'].astype(float)\n",
    "    data[\"date\"] = pd.to_datetime(data[\"date\"], format='%Y/%m/%d')\n",
    "    data.insert(0,column='stock_name',value=Name)\n",
    "    data = data[['stock_id','stock_name','date','buy','name','sell']]\n",
    "    file_name = \"{}_InstitutionalInvestorsBuySell.csv\".format(stockNo)\n",
    "    data.to_csv(file_name, index=False)\n",
    "    print(file_name+\"下載完成...\", end=\"\")\n",
    "#     print(data.head())\n",
    "    endtime= datetime.now()#紀錄爬取該支股票要多久\n",
    "    print(\"執行時間:\",endtime-starttime,\"秒\")#紀錄爬取該支股票要多久"
   ]
  },
  {
   "cell_type": "code",
   "execution_count": 9,
   "id": "11cb9d03",
   "metadata": {},
   "outputs": [
    {
     "name": "stdout",
     "output_type": "stream",
     "text": [
      "1101_InstitutionalInvestorsBuySell.csv下載完成...執行時間: 0:00:02.025837 秒\n"
     ]
    }
   ],
   "source": [
    "import csv\n",
    "# with open('stock_list_for_test.csv') as f: #供小型測試用\n",
    "with open('stock_list.csv') as f:\n",
    "    list_of_stock = csv.DictReader(f)\n",
    "    for obj in list_of_stock:\n",
    "        InstitutionalInvestorsBuySell(obj['stock_id'],obj['stock_name'])"
   ]
  },
  {
   "cell_type": "code",
   "execution_count": null,
   "id": "8b3c64e2",
   "metadata": {},
   "outputs": [],
   "source": []
  }
 ],
 "metadata": {
  "kernelspec": {
   "display_name": "Python 3",
   "language": "python",
   "name": "python3"
  },
  "language_info": {
   "codemirror_mode": {
    "name": "ipython",
    "version": 3
   },
   "file_extension": ".py",
   "mimetype": "text/x-python",
   "name": "python",
   "nbconvert_exporter": "python",
   "pygments_lexer": "ipython3",
   "version": "3.8.5"
  }
 },
 "nbformat": 4,
 "nbformat_minor": 5
}
