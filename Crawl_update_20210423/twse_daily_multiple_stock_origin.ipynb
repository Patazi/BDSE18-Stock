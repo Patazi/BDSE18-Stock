{
 "cells": [
  {
   "cell_type": "markdown",
   "metadata": {},
   "source": [
    "# 多股，多月測試 OK"
   ]
  },
  {
   "cell_type": "markdown",
   "metadata": {},
   "source": [
    "# 可以使用 stock_list.csv 進行單股，2010-2022 的每日交易爬蟲了。"
   ]
  },
  {
   "cell_type": "code",
   "execution_count": 1,
   "metadata": {},
   "outputs": [],
   "source": [
    "def Stock_crawl(stockNo,Name):\n",
    "    import pandas as pd\n",
    "    import numpy as np\n",
    "    import json\n",
    "    import requests\n",
    "    import time\n",
    "    import random\n",
    "    from datetime import datetime\n",
    "\n",
    "    dates=[]\n",
    "#     for i in range (2010,2022):\n",
    "    for i in range (2021,2022): #這行供小量測試。\n",
    "\n",
    "    #     print(i) #確認一下\n",
    "        for j in range(1,13):\n",
    "            if j <10:\n",
    "                j=\"0\"+str(j)\n",
    "    #         print(str(i)+str(j)) #確認一下\n",
    "            dates.append(str(i)+str(j)+str(\"01\"))\n",
    "    #print(dates) #確認一下， dates list 完成。\n",
    "    starttime=datetime.now() #紀錄多久\n",
    "\n",
    "    json_list=[]\n",
    "    json_data=[]\n",
    "    for Date in dates:\n",
    "        try:\n",
    "            url = f'https://www.twse.com.tw/exchangeReport/STOCK_DAY?response=json&date={Date}&stockNo={stockNo}'\n",
    "\n",
    "            data = requests.get(url).text\n",
    "            json_data = json.loads(data)\n",
    "            json_list.append(json_data['data'])\n",
    "            time.sleep (random.randrange(1, 10))\n",
    "        except:\n",
    "            print(\"No data of\",Date,Name)\n",
    "    try:\n",
    "        json=[] \n",
    "        json_stock=[]\n",
    "        for i in range (0, len(json_list)):\n",
    "            for j in range(0,len(json_list[i])):\n",
    "                json_stock.append(json_list[i][j])\n",
    "\n",
    "        for j in range(0,(len(json_stock))):\n",
    "            StockPrice = pd.DataFrame(json_stock, columns = ['Date','Volume','Volume_Cash','Open','High','Low','Close','Change','Order'])\n",
    "\n",
    "            StockPrice['Date'] = StockPrice['Date'].str.replace('/','').astype(int) + 19110000\n",
    "            StockPrice['Date'] = pd.to_datetime(StockPrice['Date'].astype(str))\n",
    "            StockPrice['Volume'] = StockPrice['Volume'].str.replace(',','').astype(float)\n",
    "            StockPrice['Volume_Cash'] = StockPrice['Volume_Cash'].str.replace(',','').astype(float)\n",
    "            StockPrice['Order'] = StockPrice['Order'].str.replace(',','').astype(float)\n",
    "\n",
    "            StockPrice['Open'] = StockPrice['Open'].str.replace(',','').astype(float)\n",
    "            StockPrice['High'] = StockPrice['High'].str.replace(',','').astype(float)\n",
    "            StockPrice['Low'] = StockPrice['Low'].str.replace(',','').astype(float)\n",
    "            StockPrice['Close'] = StockPrice['Close'].str.replace(',','').astype(float)\n",
    "            StockPrice['Change'] = StockPrice['Change'].str.replace(',','').str.replace('+','').str.replace('X','').astype(float)\n",
    "            StockPrice.insert(0,column=\"有價證券代號\",value=stockNo)\n",
    "            StockPrice.insert(1,column=\"名稱\",value=Name)\n",
    "            StockPrice = StockPrice[['有價證券代號','名稱','Date','Volume','Volume_Cash','Open','High','Low','Close','Change','Order']]\n",
    "    except:\n",
    "        print(\"Woops, Something wrong~\")\n",
    "\n",
    "    file_name = \"{}_daily.csv\".format(stockNo)\n",
    "    StockPrice.to_csv(file_name, index=False)\n",
    "    print(file_name+\"下載完成...\", end=\"\")\n",
    "    endtime= datetime.now() #紀錄爬取該支股票要多久\n",
    "    print(\"執行時間:\",endtime-starttime,\"秒\") #紀錄爬取該支股票要多久\n",
    "    #1101_daily.csv下載完成...執行時間: 0:12:27.472259 秒\n",
    "    #1102_daily.csv下載完成...執行時間: 0:12:47.176578 秒"
   ]
  },
  {
   "cell_type": "code",
   "execution_count": 2,
   "metadata": {},
   "outputs": [
    {
     "name": "stdout",
     "output_type": "stream",
     "text": [
      "No data of 20210101 台泥\n",
      "No data of 20210201 台泥\n",
      "No data of 20210301 台泥\n",
      "No data of 20210401 台泥\n",
      "No data of 20210501 台泥\n",
      "No data of 20210601 台泥\n",
      "No data of 20210701 台泥\n",
      "No data of 20210801 台泥\n",
      "No data of 20210901 台泥\n",
      "No data of 20211001 台泥\n",
      "No data of 20211101 台泥\n",
      "No data of 20211201 台泥\n"
     ]
    },
    {
     "ename": "UnboundLocalError",
     "evalue": "local variable 'StockPrice' referenced before assignment",
     "output_type": "error",
     "traceback": [
      "\u001b[0;31m---------------------------------------------------------------------------\u001b[0m",
      "\u001b[0;31mUnboundLocalError\u001b[0m                         Traceback (most recent call last)",
      "\u001b[0;32m<ipython-input-2-b0028cc897be>\u001b[0m in \u001b[0;36m<module>\u001b[0;34m\u001b[0m\n\u001b[1;32m      3\u001b[0m     \u001b[0mlist_of_stock\u001b[0m \u001b[0;34m=\u001b[0m \u001b[0mcsv\u001b[0m\u001b[0;34m.\u001b[0m\u001b[0mDictReader\u001b[0m\u001b[0;34m(\u001b[0m\u001b[0mf\u001b[0m\u001b[0;34m)\u001b[0m\u001b[0;34m\u001b[0m\u001b[0;34m\u001b[0m\u001b[0m\n\u001b[1;32m      4\u001b[0m     \u001b[0;32mfor\u001b[0m \u001b[0mobj\u001b[0m \u001b[0;32min\u001b[0m \u001b[0mlist_of_stock\u001b[0m\u001b[0;34m:\u001b[0m\u001b[0;34m\u001b[0m\u001b[0;34m\u001b[0m\u001b[0m\n\u001b[0;32m----> 5\u001b[0;31m         \u001b[0mStock_crawl\u001b[0m\u001b[0;34m(\u001b[0m\u001b[0mobj\u001b[0m\u001b[0;34m[\u001b[0m\u001b[0;34m'stock_id'\u001b[0m\u001b[0;34m]\u001b[0m\u001b[0;34m,\u001b[0m\u001b[0mobj\u001b[0m\u001b[0;34m[\u001b[0m\u001b[0;34m'stock_name'\u001b[0m\u001b[0;34m]\u001b[0m\u001b[0;34m)\u001b[0m\u001b[0;34m\u001b[0m\u001b[0;34m\u001b[0m\u001b[0m\n\u001b[0m\u001b[1;32m      6\u001b[0m \u001b[0;31m#         print(obj['有價證券代號'],obj['名稱'])\u001b[0m\u001b[0;34m\u001b[0m\u001b[0;34m\u001b[0m\u001b[0;34m\u001b[0m\u001b[0m\n",
      "\u001b[0;32m<ipython-input-1-33a4f391b581>\u001b[0m in \u001b[0;36mStock_crawl\u001b[0;34m(stockNo, Name)\u001b[0m\n\u001b[1;32m     61\u001b[0m \u001b[0;34m\u001b[0m\u001b[0m\n\u001b[1;32m     62\u001b[0m     \u001b[0mfile_name\u001b[0m \u001b[0;34m=\u001b[0m \u001b[0;34m\"{}_daily.csv\"\u001b[0m\u001b[0;34m.\u001b[0m\u001b[0mformat\u001b[0m\u001b[0;34m(\u001b[0m\u001b[0mstockNo\u001b[0m\u001b[0;34m)\u001b[0m\u001b[0;34m\u001b[0m\u001b[0;34m\u001b[0m\u001b[0m\n\u001b[0;32m---> 63\u001b[0;31m     \u001b[0mStockPrice\u001b[0m\u001b[0;34m.\u001b[0m\u001b[0mto_csv\u001b[0m\u001b[0;34m(\u001b[0m\u001b[0mfile_name\u001b[0m\u001b[0;34m,\u001b[0m \u001b[0mindex\u001b[0m\u001b[0;34m=\u001b[0m\u001b[0;32mFalse\u001b[0m\u001b[0;34m)\u001b[0m\u001b[0;34m\u001b[0m\u001b[0;34m\u001b[0m\u001b[0m\n\u001b[0m\u001b[1;32m     64\u001b[0m     \u001b[0mprint\u001b[0m\u001b[0;34m(\u001b[0m\u001b[0mfile_name\u001b[0m\u001b[0;34m+\u001b[0m\u001b[0;34m\"下載完成...\"\u001b[0m\u001b[0;34m,\u001b[0m \u001b[0mend\u001b[0m\u001b[0;34m=\u001b[0m\u001b[0;34m\"\"\u001b[0m\u001b[0;34m)\u001b[0m\u001b[0;34m\u001b[0m\u001b[0;34m\u001b[0m\u001b[0m\n\u001b[1;32m     65\u001b[0m     \u001b[0mendtime\u001b[0m\u001b[0;34m=\u001b[0m \u001b[0mdatetime\u001b[0m\u001b[0;34m.\u001b[0m\u001b[0mnow\u001b[0m\u001b[0;34m(\u001b[0m\u001b[0;34m)\u001b[0m \u001b[0;31m#紀錄爬取該支股票要多久\u001b[0m\u001b[0;34m\u001b[0m\u001b[0;34m\u001b[0m\u001b[0m\n",
      "\u001b[0;31mUnboundLocalError\u001b[0m: local variable 'StockPrice' referenced before assignment"
     ]
    }
   ],
   "source": [
    "import csv\n",
    "with open('stock_list.csv') as f:\n",
    "    list_of_stock = csv.DictReader(f)\n",
    "    for obj in list_of_stock:\n",
    "        Stock_crawl(obj['有價證券代號'],obj['名稱'])\n",
    "#         print(obj['有價證券代號'],obj['名稱'])"
   ]
  },
  {
   "cell_type": "code",
   "execution_count": null,
   "metadata": {},
   "outputs": [],
   "source": []
  }
 ],
 "metadata": {
  "kernelspec": {
   "display_name": "Python 3",
   "language": "python",
   "name": "python3"
  },
  "language_info": {
   "codemirror_mode": {
    "name": "ipython",
    "version": 3
   },
   "file_extension": ".py",
   "mimetype": "text/x-python",
   "name": "python",
   "nbconvert_exporter": "python",
   "pygments_lexer": "ipython3",
   "version": "3.8.5"
  }
 },
 "nbformat": 4,
 "nbformat_minor": 4
}
