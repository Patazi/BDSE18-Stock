{
 "cells": [
  {
   "cell_type": "markdown",
   "id": "afdedd5c",
   "metadata": {},
   "source": [
    "# 股東持股分級表 TaiwanStockHoldingSharesPer\n",
    "## FindMind\n",
    "表格說明：股票代碼/公司名稱/日期/持股分級/人數/比例/股數\n",
    "\n",
    "英文對照：stock_id/stock_name/date/HoldingSharesLevel/people/percent/unit"
   ]
  },
  {
   "cell_type": "code",
   "execution_count": 5,
   "id": "cce0e977",
   "metadata": {},
   "outputs": [],
   "source": [
    "def HoldingSharesPer(stockNo,Name):\n",
    "    import time\n",
    "    from datetime import datetime\n",
    "    import requests\n",
    "    import pandas as pd\n",
    "    starttime=datetime.now()#紀錄爬取該支股票要多久\n",
    "    url = \"https://api.finmindtrade.com/api/v4/data\"\n",
    "    parameter = {\n",
    "        \"dataset\": \"TaiwanStockHoldingSharesPer\",\n",
    "        \"data_id\": stockNo,\n",
    "        \"start_date\": \"2017-01-01\",\n",
    "        \"token\": \"\", # 參考登入，獲取金鑰\n",
    "    }\n",
    "    data = requests.get(url, params=parameter)\n",
    "    data = data.json()\n",
    "    data = pd.DataFrame(data['data'])\n",
    "    data['people']=data['people'].astype(float)\n",
    "    data['unit']=data['unit'].astype(float)\n",
    "    data.insert(2,column='stock_name',value=Name)\n",
    "    data = data[['stock_id','stock_name','date','HoldingSharesLevel','people','percent','unit']]\n",
    "\n",
    "    \n",
    "#     print(data.head())\n",
    "#     print(data.info())\n",
    "    file_name = \"HoldingSharesPer/{}_HoldingSharesPer.csv\".format(stockNo)\n",
    "    data.to_csv(file_name, index=False)\n",
    "    print(file_name+\"下載完成...\", end=\"\")\n",
    "    endtime= datetime.now()#紀錄爬取該支股票要多久\n",
    "    print(\"執行時間:\",endtime-starttime,\"秒\")#紀錄爬取該支股票要多久\n",
    "    # print(data.head())\n",
    "    # print(data.info())"
   ]
  },
  {
   "cell_type": "code",
   "execution_count": 6,
   "id": "04d000cd",
   "metadata": {},
   "outputs": [
    {
     "name": "stdout",
     "output_type": "stream",
     "text": [
      "HoldingSharesPer/8383_HoldingSharesPer.csv下載完成...執行時間: 0:00:03.404180 秒\n",
      "HoldingSharesPer/8390_HoldingSharesPer.csv下載完成...執行時間: 0:00:02.178767 秒\n",
      "HoldingSharesPer/8401_HoldingSharesPer.csv下載完成...執行時間: 0:00:01.980083 秒\n",
      "HoldingSharesPer/8403_HoldingSharesPer.csv下載完成...執行時間: 0:00:01.776778 秒\n",
      "HoldingSharesPer/8406_HoldingSharesPer.csv下載完成...執行時間: 0:00:01.405102 秒\n",
      "HoldingSharesPer/8409_HoldingSharesPer.csv下載完成...執行時間: 0:00:01.528258 秒\n",
      "HoldingSharesPer/8410_HoldingSharesPer.csv下載完成...執行時間: 0:00:02.189380 秒\n",
      "HoldingSharesPer/8415_HoldingSharesPer.csv下載完成...執行時間: 0:00:02.515233 秒\n",
      "HoldingSharesPer/8416_HoldingSharesPer.csv下載完成...執行時間: 0:00:02.245040 秒\n",
      "HoldingSharesPer/8418_HoldingSharesPer.csv下載完成...執行時間: 0:00:02.068690 秒\n",
      "HoldingSharesPer/8420_HoldingSharesPer.csv下載完成...執行時間: 0:00:01.929857 秒\n",
      "HoldingSharesPer/8421_HoldingSharesPer.csv下載完成...執行時間: 0:00:01.762597 秒\n",
      "HoldingSharesPer/8423_HoldingSharesPer.csv下載完成...執行時間: 0:00:01.604317 秒\n",
      "HoldingSharesPer/8424_HoldingSharesPer.csv下載完成...執行時間: 0:00:01.710993 秒\n",
      "HoldingSharesPer/8426_HoldingSharesPer.csv下載完成...執行時間: 0:00:01.311203 秒\n",
      "HoldingSharesPer/8431_HoldingSharesPer.csv下載完成...執行時間: 0:00:01.570407 秒\n",
      "HoldingSharesPer/8432_HoldingSharesPer.csv下載完成...執行時間: 0:00:01.221440 秒\n",
      "HoldingSharesPer/8433_HoldingSharesPer.csv下載完成...執行時間: 0:00:01.430532 秒\n",
      "HoldingSharesPer/8435_HoldingSharesPer.csv下載完成...執行時間: 0:00:01.560394 秒\n",
      "HoldingSharesPer/8436_HoldingSharesPer.csv下載完成...執行時間: 0:00:01.624956 秒\n",
      "HoldingSharesPer/8437_HoldingSharesPer.csv下載完成...執行時間: 0:00:01.481548 秒\n",
      "HoldingSharesPer/8440_HoldingSharesPer.csv下載完成...執行時間: 0:00:01.294386 秒\n",
      "HoldingSharesPer/8444_HoldingSharesPer.csv下載完成...執行時間: 0:00:01.282001 秒\n",
      "HoldingSharesPer/8446_HoldingSharesPer.csv下載完成...執行時間: 0:00:01.501825 秒\n",
      "HoldingSharesPer/8450_HoldingSharesPer.csv下載完成...執行時間: 0:00:01.360273 秒\n",
      "HoldingSharesPer/8455_HoldingSharesPer.csv下載完成...執行時間: 0:00:01.298589 秒\n",
      "HoldingSharesPer/8472_HoldingSharesPer.csv下載完成...執行時間: 0:00:01.667510 秒\n",
      "HoldingSharesPer/8476_HoldingSharesPer.csv下載完成...執行時間: 0:00:01.232471 秒\n",
      "HoldingSharesPer/8477_HoldingSharesPer.csv下載完成...執行時間: 0:00:01.629982 秒\n",
      "HoldingSharesPer/8489_HoldingSharesPer.csv下載完成...執行時間: 0:00:01.522896 秒\n",
      "HoldingSharesPer/8905_HoldingSharesPer.csv下載完成...執行時間: 0:00:01.198103 秒\n",
      "HoldingSharesPer/8906_HoldingSharesPer.csv下載完成...執行時間: 0:00:02.084996 秒\n",
      "HoldingSharesPer/8908_HoldingSharesPer.csv下載完成...執行時間: 0:00:01.551548 秒\n",
      "HoldingSharesPer/8916_HoldingSharesPer.csv下載完成...執行時間: 0:00:01.734397 秒\n",
      "HoldingSharesPer/8917_HoldingSharesPer.csv下載完成...執行時間: 0:00:01.573508 秒\n",
      "HoldingSharesPer/8921_HoldingSharesPer.csv下載完成...執行時間: 0:00:01.324184 秒\n",
      "HoldingSharesPer/8923_HoldingSharesPer.csv下載完成...執行時間: 0:00:01.412938 秒\n",
      "HoldingSharesPer/8924_HoldingSharesPer.csv下載完成...執行時間: 0:00:01.756908 秒\n",
      "HoldingSharesPer/8927_HoldingSharesPer.csv下載完成...執行時間: 0:00:01.413952 秒\n",
      "HoldingSharesPer/8928_HoldingSharesPer.csv下載完成...執行時間: 0:00:01.328553 秒\n",
      "HoldingSharesPer/8929_HoldingSharesPer.csv下載完成...執行時間: 0:00:01.601592 秒\n",
      "HoldingSharesPer/8930_HoldingSharesPer.csv下載完成...執行時間: 0:00:01.541900 秒\n",
      "HoldingSharesPer/8931_HoldingSharesPer.csv下載完成...執行時間: 0:00:01.579167 秒\n",
      "HoldingSharesPer/8932_HoldingSharesPer.csv下載完成...執行時間: 0:00:01.706141 秒\n",
      "HoldingSharesPer/8933_HoldingSharesPer.csv下載完成...執行時間: 0:00:01.669000 秒\n",
      "HoldingSharesPer/8935_HoldingSharesPer.csv下載完成...執行時間: 0:00:01.720875 秒\n",
      "HoldingSharesPer/8936_HoldingSharesPer.csv下載完成...執行時間: 0:00:01.363365 秒\n",
      "HoldingSharesPer/8937_HoldingSharesPer.csv下載完成...執行時間: 0:00:01.264829 秒\n",
      "HoldingSharesPer/8938_HoldingSharesPer.csv下載完成...執行時間: 0:00:01.457130 秒\n",
      "HoldingSharesPer/8941_HoldingSharesPer.csv下載完成...執行時間: 0:00:01.540998 秒\n",
      "HoldingSharesPer/8942_HoldingSharesPer.csv下載完成...執行時間: 0:00:01.349075 秒\n",
      "HoldingSharesPer/9949_HoldingSharesPer.csv下載完成...執行時間: 0:00:01.618091 秒\n",
      "HoldingSharesPer/9950_HoldingSharesPer.csv下載完成...執行時間: 0:00:02.947106 秒\n",
      "HoldingSharesPer/9951_HoldingSharesPer.csv下載完成...執行時間: 0:00:01.452141 秒\n",
      "HoldingSharesPer/9960_HoldingSharesPer.csv下載完成...執行時間: 0:00:01.940726 秒\n",
      "HoldingSharesPer/9962_HoldingSharesPer.csv下載完成...執行時間: 0:00:01.859796 秒\n"
     ]
    }
   ],
   "source": [
    "import csv\n",
    "# with open('stock_list_for_test.csv') as f:#供小型測試用\n",
    "with open('stock_list.csv') as f:\n",
    "    list_of_stock = csv.DictReader(f)\n",
    "    for obj in list_of_stock:\n",
    "        HoldingSharesPer(obj['stock_id'],obj['stock_name'])"
   ]
  },
  {
   "cell_type": "code",
   "execution_count": null,
   "id": "ea27d203",
   "metadata": {},
   "outputs": [],
   "source": []
  }
 ],
 "metadata": {
  "kernelspec": {
   "display_name": "Python 3",
   "language": "python",
   "name": "python3"
  },
  "language_info": {
   "codemirror_mode": {
    "name": "ipython",
    "version": 3
   },
   "file_extension": ".py",
   "mimetype": "text/x-python",
   "name": "python",
   "nbconvert_exporter": "python",
   "pygments_lexer": "ipython3",
   "version": "3.8.5"
  }
 },
 "nbformat": 4,
 "nbformat_minor": 5
}
