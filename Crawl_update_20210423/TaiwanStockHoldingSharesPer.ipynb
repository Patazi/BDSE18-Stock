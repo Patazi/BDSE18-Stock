{
 "cells": [
  {
   "cell_type": "markdown",
   "id": "afdedd5c",
   "metadata": {},
   "source": [
    "# 股東持股分級表 TaiwanStockHoldingSharesPer\n",
    "## FindMind\n",
    "表格說明：股票代碼/公司名稱/日期/持股分級/人數/比例/股數\n",
    "\n",
    "英文對照：stock_id/stock_name/date/HoldingSharesLevel/people/percent/unit"
   ]
  },
  {
   "cell_type": "code",
   "execution_count": 10,
   "id": "cce0e977",
   "metadata": {},
   "outputs": [],
   "source": [
    "def HoldingSharesPer(stockNo,Name):\n",
    "    import time\n",
    "    from datetime import datetime\n",
    "    import requests\n",
    "    import pandas as pd\n",
    "    starttime=datetime.now()#紀錄爬取該支股票要多久\n",
    "    url = \"https://api.finmindtrade.com/api/v4/data\"\n",
    "    parameter = {\n",
    "        \"dataset\": \"TaiwanStockHoldingSharesPer\",\n",
    "        \"data_id\": stockNo,\n",
    "        \"start_date\": \"2017-01-01\",\n",
    "        \"token\": \"\", # 參考登入，獲取金鑰\n",
    "    }\n",
    "    data = requests.get(url, params=parameter)\n",
    "    data = data.json()\n",
    "    data = pd.DataFrame(data['data'])\n",
    "    data['people']=data['people'].astype(float)\n",
    "    data['unit']=data['unit'].astype(float)\n",
    "    data.insert(2,column='stock_name',value=Name)\n",
    "    data = data[['stock_id','stock_name','date','HoldingSharesLevel','people','percent','unit']]\n",
    "\n",
    "    \n",
    "#     print(data.head())\n",
    "#     print(data.info())\n",
    "    file_name = \"{}_HoldingSharesPer.csv\".format(stockNo)\n",
    "    data.to_csv(file_name, index=False)\n",
    "    print(file_name+\"下載完成...\", end=\"\")\n",
    "    endtime= datetime.now()#紀錄爬取該支股票要多久\n",
    "    print(\"執行時間:\",endtime-starttime,\"秒\")#紀錄爬取該支股票要多久\n",
    "    # print(data.head())\n",
    "    # print(data.info())"
   ]
  },
  {
   "cell_type": "code",
   "execution_count": 11,
   "id": "04d000cd",
   "metadata": {},
   "outputs": [
    {
     "name": "stdout",
     "output_type": "stream",
     "text": [
      "1101_HoldingSharesPer.csv下載完成...執行時間: 0:00:25.743306 秒\n"
     ]
    }
   ],
   "source": [
    "import csv\n",
    "# with open('stock_list_for_test.csv') as f:#供小型測試用\n",
    "with open('stock_list.csv') as f:\n",
    "    list_of_stock = csv.DictReader(f)\n",
    "    for obj in list_of_stock:\n",
    "        HoldingSharesPer(obj['stock_id'],obj['stock_name'])"
   ]
  }
 ],
 "metadata": {
  "kernelspec": {
   "display_name": "Python 3",
   "language": "python",
   "name": "python3"
  },
  "language_info": {
   "codemirror_mode": {
    "name": "ipython",
    "version": 3
   },
   "file_extension": ".py",
   "mimetype": "text/x-python",
   "name": "python",
   "nbconvert_exporter": "python",
   "pygments_lexer": "ipython3",
   "version": "3.8.5"
  }
 },
 "nbformat": 4,
 "nbformat_minor": 5
}
