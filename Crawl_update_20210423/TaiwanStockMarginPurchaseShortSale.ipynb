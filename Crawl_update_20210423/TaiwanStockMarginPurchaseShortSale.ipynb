{
 "cells": [
  {
   "cell_type": "markdown",
   "id": "fa217841",
   "metadata": {},
   "source": [
    "# 融資融劵表 TaiwanStockMarginPurchaseShortSale¶\n",
    "## FindMind\n",
    "表格說明：\n",
    "股票代碼/公司名稱/日期/融資買進/融資現金償還/融資限額/融資賣出/融資今日餘額/融資昨日餘額/資券互抵/融券買進/融券償還/融券限額/融券賣出/融券今日餘額/融券昨日餘額/註記\n",
    "\n",
    "英文對照：stock_id/stock_name/date/MarginPurchaseBuy/MarginPurchaseCashRepayment/MarginPurchaseLimit/MarginPurchaseSell/MarginPurchaseTodayBalance/MarginPurchaseYesterdayBalance/OffsetLoanAndShort/ShortSaleBuy/ShortSaleCashRepayment/ShortSaleLimit/ShortSaleSell/ShortSaleTodayBalance/ShortSaleYesterdayBalance/Note"
   ]
  },
  {
   "cell_type": "code",
   "execution_count": 6,
   "id": "6af09254",
   "metadata": {},
   "outputs": [],
   "source": [
    "def MarginPurchaseShortSale(stockNo,Name):\n",
    "    import time\n",
    "    from datetime import datetime\n",
    "    import requests\n",
    "    import pandas as pd\n",
    "    starttime=datetime.now()#紀錄爬取該支股票要多久\n",
    "    url = \"https://api.finmindtrade.com/api/v4/data\"\n",
    "    parameter = {\n",
    "        \"dataset\": \"TaiwanStockMarginPurchaseShortSale\",\n",
    "        \"data_id\": stockNo,\n",
    "        \"start_date\": \"2000-01-01\",\n",
    "        \"token\": \"\", # 參考登入，獲取金鑰\n",
    "    }\n",
    "    data = requests.get(url, params=parameter)\n",
    "    data = data.json()\n",
    "    data = pd.DataFrame(data['data'])\n",
    "    data['MarginPurchaseBuy']=data['MarginPurchaseBuy'].astype(float)\n",
    "    data['MarginPurchaseCashRepayment']=data['MarginPurchaseCashRepayment'].astype(float)\n",
    "    data['MarginPurchaseLimit']=data['MarginPurchaseLimit'].astype(float)\n",
    "    data['MarginPurchaseSell']=data['MarginPurchaseSell'].astype(float)\n",
    "    data['MarginPurchaseTodayBalance']=data['MarginPurchaseTodayBalance'].astype(float)\n",
    "    data['MarginPurchaseYesterdayBalance']=data['MarginPurchaseYesterdayBalance'].astype(float)\n",
    "    data['OffsetLoanAndShort']=data['OffsetLoanAndShort'].astype(float)\n",
    "    data['ShortSaleBuy']=data['ShortSaleBuy'].astype(float)\n",
    "    data['ShortSaleCashRepayment']=data['ShortSaleCashRepayment'].astype(float)\n",
    "    data['ShortSaleLimit']=data['ShortSaleLimit'].astype(float)\n",
    "    data['ShortSaleSell']=data['ShortSaleSell'].astype(float)\n",
    "    data['ShortSaleTodayBalance']=data['ShortSaleTodayBalance'].astype(float)\n",
    "    data['ShortSaleYesterdayBalance']=data['ShortSaleYesterdayBalance'].astype(float)\n",
    "    data[\"date\"] = pd.to_datetime(data[\"date\"], format='%Y/%m/%d')\n",
    "    data.insert(0,column='stock_name',value=Name)\n",
    "    data=data[['stock_id','stock_name','date','MarginPurchaseBuy','MarginPurchaseCashRepayment','MarginPurchaseLimit','MarginPurchaseSell','MarginPurchaseTodayBalance','MarginPurchaseYesterdayBalance','OffsetLoanAndShort','ShortSaleBuy','ShortSaleCashRepayment','ShortSaleLimit','ShortSaleSell','ShortSaleTodayBalance','ShortSaleYesterdayBalance','Note']]\n",
    "    file_name = \"{}_PurchaseShortSale.csv\".format(stockNo)\n",
    "    data.to_csv(file_name, index=False)\n",
    "    print(file_name+\"下載完成...\", end=\"\")\n",
    "    endtime= datetime.now()#紀錄爬取該支股票要多久\n",
    "    print(\"執行時間:\",endtime-starttime,\"秒\")#紀錄爬取該支股票要多久\n",
    "    # print(data.head())\n",
    "    # print(data.info())"
   ]
  },
  {
   "cell_type": "code",
   "execution_count": 7,
   "id": "8c06f17d",
   "metadata": {},
   "outputs": [
    {
     "name": "stdout",
     "output_type": "stream",
     "text": [
      "1101_PurchaseShortSale.csv下載完成...執行時間: 0:00:04.847884 秒\n"
     ]
    }
   ],
   "source": [
    "import csv\n",
    "# with open('stock_list_for_test.csv') as f:#供小型測試用\n",
    "with open('stock_list.csv') as f:\n",
    "    list_of_stock = csv.DictReader(f)\n",
    "    for obj in list_of_stock:\n",
    "        MarginPurchaseShortSale(obj['stock_id'],obj['stock_name'])"
   ]
  }
 ],
 "metadata": {
  "kernelspec": {
   "display_name": "Python 3",
   "language": "python",
   "name": "python3"
  },
  "language_info": {
   "codemirror_mode": {
    "name": "ipython",
    "version": 3
   },
   "file_extension": ".py",
   "mimetype": "text/x-python",
   "name": "python",
   "nbconvert_exporter": "python",
   "pygments_lexer": "ipython3",
   "version": "3.8.5"
  }
 },
 "nbformat": 4,
 "nbformat_minor": 5
}
