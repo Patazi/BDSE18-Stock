{
 "cells": [
  {
   "cell_type": "markdown",
   "metadata": {},
   "source": [
    "# 多股，多月測試 OK"
   ]
  },
  {
   "cell_type": "markdown",
   "metadata": {},
   "source": [
    "# 可以使用 stock_list.csv 進行單股，2010-2022 的每日交易爬蟲了。"
   ]
  },
  {
   "cell_type": "code",
   "execution_count": 2,
   "metadata": {},
   "outputs": [],
   "source": [
    "import csv\n",
    "import pandas as pd\n",
    "import numpy as np\n",
    "import json as js \n",
    "import requests\n",
    "import time\n",
    "import random\n",
    "from datetime import datetime\n",
    "from tqdm import trange,tqdm\n",
    "\n",
    "def Stock_crawl(stockNo,Name):\n",
    "    \n",
    "    starttime= datetime.now() #紀錄多久\n",
    "    dates=[]\n",
    "    # 獲取今天日期\n",
    "    now_time = datetime.now().strftime('%Y%m%d')\n",
    "\n",
    "    # 選擇日期範圍，證交所資料從20100101年開始\n",
    "    for i in range (2010,2022): \n",
    "        for j in range(1,13):\n",
    "            if j <10:\n",
    "                j=\"0\"+str(j)\n",
    "            # 如果日期大於今天日期，停止迴圈(不新增進dates list中)\n",
    "            if  (str(i)+str(j)+str(\"01\")) > now_time:\n",
    "                break\n",
    "            dates.append(str(i)+str(j)+str(\"01\"))\n",
    "\n",
    "    json_list=[]\n",
    "    json_data=[]\n",
    "    #計數\n",
    "    count = 0\n",
    "    #把日期反轉，讓程式從最近的日期往前抓，好處是有些股票上市日期不到10年，或是中途下市(只會抓到重新上市後的資料)\n",
    "    dates.reverse()\n",
    "    # tqdm 是進度條的插件\n",
    "    for Date in tqdm(dates):\n",
    "        try:\n",
    "            url = f'https://www.twse.com.tw/exchangeReport/STOCK_DAY?response=json&date={Date}&stockNo={stockNo}'\n",
    "            #設成空值 (好像沒效果)\n",
    "            data = None \n",
    "            data = requests.get(url).text\n",
    "            json_data = js.loads(data)\n",
    "            #用insert是為了讓舊資料在前面\n",
    "            json_list.insert(0,json_data['data'])\n",
    "            time.sleep (random.randrange(2, 4))\n",
    "#             print(Date+\" \"+f'{stockNo}')\n",
    "        except:\n",
    "            # 錯誤計數，如果次數大於2次，就換下一支股票\n",
    "            count += 1\n",
    "            if count >= 3:\n",
    "                count = 0\n",
    "                break\n",
    "            print(\"No data of\",Date,Name)\n",
    "            # 把缺失的日期插回list中，這樣就可以繼續抓\n",
    "            dates.insert(0,Date)\n",
    "            # 確定缺失的日期在list的第一個\n",
    "#             print(dates[0])\n",
    "           \n",
    "\n",
    "            continue\n",
    "    json=[] \n",
    "    json_stock=[]\n",
    "#     try:\n",
    "    for i in range (0, len(json_list)):\n",
    "        for j in range(0,len(json_list[i])):\n",
    "            json_stock.append(json_list[i][j])\n",
    "\n",
    "    for j in range(0,(len(json_stock))):\n",
    "        StockPrice = pd.DataFrame(json_stock, columns = ['Date','Volume','Volume_Cash','Open','High','Low','Close','Change','Order'])\n",
    "\n",
    "        StockPrice['Date'] = StockPrice['Date'].str.replace('/','').astype(int) + 19110000\n",
    "        StockPrice['Date'] = pd.to_datetime(StockPrice['Date'].astype(str))\n",
    "        StockPrice['Volume'] = StockPrice['Volume'].str.replace(',','').astype(float)\n",
    "        StockPrice['Volume_Cash'] = StockPrice['Volume_Cash'].str.replace(',','').astype(float)\n",
    "        StockPrice['Order'] = StockPrice['Order'].str.replace(',','').astype(float)\n",
    "\n",
    "#         StockPrice['Open'] = StockPrice['Open'].str.replace(',','').astype(float)\n",
    "#         StockPrice['High'] = StockPrice['High'].str.replace(',','').astype(float)\n",
    "#         StockPrice['Low'] = StockPrice['Low'].str.replace(',','').astype(float)\n",
    "#         StockPrice['Close'] = StockPrice['Close'].str.replace(',','').astype(float)\n",
    "        StockPrice['Change'] = StockPrice['Change'].str.replace(',','').str.replace('+','').str.replace('X','').astype(float)\n",
    "        StockPrice.insert(0,column='stock_id',value=stockNo)\n",
    "        StockPrice.insert(1,column='stock_name',value=Name)\n",
    "        StockPrice = StockPrice[['stock_id','stock_name','Date','Volume','Volume_Cash','Open','High','Low','Close','Change','Order']]\n",
    "            #中文對照：股票代碼/公司名稱/日期/成交量/成交金額/開盤價/最高價/最低價/收盤價/漲跌幅/交易筆數\n",
    "#     except:\n",
    "#         print(\"Woops, Something wrong~\")\n",
    "\n",
    "    file_name = \"daily/{}_daily.csv\".format(stockNo)\n",
    "    StockPrice.to_csv(file_name, index=False)\n",
    "    print(file_name+\"下載完成...\", end=\"\")\n",
    "    endtime= datetime.now() #紀錄爬取該支股票要多久\n",
    "    print(\"執行時間:\",endtime-starttime,\"秒\") #紀錄爬取該支股票要多久\n",
    "    #1101_daily.csv下載完成...執行時間: 0:12:27.472259 秒\n",
    "    #1102_daily.csv下載完成...執行時間: 0:12:47.176578 秒"
   ]
  },
  {
   "cell_type": "code",
   "execution_count": null,
   "metadata": {
    "scrolled": true
   },
   "outputs": [
    {
     "name": "stderr",
     "output_type": "stream",
     "text": [
      "\r",
      "  0%|          | 0/136 [00:00<?, ?it/s]"
     ]
    },
    {
     "name": "stdout",
     "output_type": "stream",
     "text": [
      "1213\n"
     ]
    },
    {
     "name": "stderr",
     "output_type": "stream",
     "text": [
      " 15%|█▌        | 21/136 [00:56<04:04,  2.13s/it]"
     ]
    },
    {
     "name": "stdout",
     "output_type": "stream",
     "text": [
      "No data of 20190801 大飲\n"
     ]
    },
    {
     "name": "stderr",
     "output_type": "stream",
     "text": [
      "\r",
      " 16%|█▌        | 22/136 [00:56<03:02,  1.60s/it]"
     ]
    },
    {
     "name": "stdout",
     "output_type": "stream",
     "text": [
      "No data of 20190801 大飲\n"
     ]
    },
    {
     "name": "stderr",
     "output_type": "stream",
     "text": [
      " 16%|█▌        | 22/136 [00:57<04:55,  2.59s/it]\n",
      "<ipython-input-2-b30b4e68f55c>:76: FutureWarning: The default value of regex will change from True to False in a future version. In addition, single character regular expressions will*not* be treated as literal strings when regex=True.\n",
      "  StockPrice['Change'] = StockPrice['Change'].str.replace(',','').str.replace('+','').str.replace('X','').astype(float)\n",
      "  0%|          | 0/136 [00:00<?, ?it/s]"
     ]
    },
    {
     "name": "stdout",
     "output_type": "stream",
     "text": [
      "daily/1213_daily.csv下載完成...執行時間: 0:00:58.801947 秒\n",
      "1215\n"
     ]
    },
    {
     "name": "stderr",
     "output_type": "stream",
     "text": [
      "100%|██████████| 136/136 [06:44<00:00,  2.97s/it]\n",
      "  0%|          | 0/136 [00:00<?, ?it/s]"
     ]
    },
    {
     "name": "stdout",
     "output_type": "stream",
     "text": [
      "daily/1215_daily.csv下載完成...執行時間: 0:07:18.242691 秒\n",
      "1216\n"
     ]
    },
    {
     "name": "stderr",
     "output_type": "stream",
     "text": [
      " 81%|████████  | 110/136 [05:12<00:58,  2.27s/it]"
     ]
    },
    {
     "name": "stdout",
     "output_type": "stream",
     "text": [
      "No data of 20120301 統一\n"
     ]
    },
    {
     "name": "stderr",
     "output_type": "stream",
     "text": [
      "\r",
      " 82%|████████▏ | 111/136 [05:13<00:41,  1.68s/it]"
     ]
    },
    {
     "name": "stdout",
     "output_type": "stream",
     "text": [
      "No data of 20120301 統一\n"
     ]
    },
    {
     "name": "stderr",
     "output_type": "stream",
     "text": [
      "138it [06:29,  2.83s/it]                         \n",
      "  0%|          | 0/136 [00:00<?, ?it/s]"
     ]
    },
    {
     "name": "stdout",
     "output_type": "stream",
     "text": [
      "daily/1216_daily.csv下載完成...執行時間: 0:07:04.959321 秒\n",
      "1217\n"
     ]
    },
    {
     "name": "stderr",
     "output_type": "stream",
     "text": [
      "100%|██████████| 136/136 [06:59<00:00,  3.08s/it]\n",
      "  0%|          | 0/136 [00:00<?, ?it/s]"
     ]
    },
    {
     "name": "stdout",
     "output_type": "stream",
     "text": [
      "daily/1217_daily.csv下載完成...執行時間: 0:07:33.383933 秒\n",
      "1218\n"
     ]
    },
    {
     "name": "stderr",
     "output_type": "stream",
     "text": [
      " 16%|█▌        | 22/136 [01:02<04:05,  2.15s/it]"
     ]
    },
    {
     "name": "stdout",
     "output_type": "stream",
     "text": [
      "No data of 20190701 泰山\n"
     ]
    },
    {
     "name": "stderr",
     "output_type": "stream",
     "text": [
      " 18%|█▊        | 24/136 [01:06<03:42,  1.99s/it]"
     ]
    },
    {
     "name": "stdout",
     "output_type": "stream",
     "text": [
      "No data of 20190601 泰山\n"
     ]
    },
    {
     "name": "stderr",
     "output_type": "stream",
     "text": [
      " 18%|█▊        | 25/136 [01:10<05:12,  2.81s/it]\n",
      "  0%|          | 0/136 [00:00<?, ?it/s]"
     ]
    },
    {
     "name": "stdout",
     "output_type": "stream",
     "text": [
      "daily/1218_daily.csv下載完成...執行時間: 0:01:12.964020 秒\n",
      "1219\n"
     ]
    },
    {
     "name": "stderr",
     "output_type": "stream",
     "text": [
      "  3%|▎         | 4/136 [00:10<06:01,  2.74s/it]"
     ]
    }
   ],
   "source": [
    "with open('stock_list.csv') as f:\n",
    "    list_of_stock = csv.DictReader(f)\n",
    "    \n",
    "    #設定之前已經載下來的股票代碼\n",
    "    stop = 1210\n",
    "    stop = str(stop)\n",
    "    num = 2000\n",
    "    \n",
    "    #找Index值\n",
    "    for obj in list_of_stock:\n",
    "        if obj['stock_id'] == stop:\n",
    "            num = int(obj[''])\n",
    "            continue\n",
    "        if int(obj['']) > num :\n",
    "            print(obj['stock_id'])\n",
    "            Stock_crawl(obj['stock_id'],obj['stock_name'])\n",
    "            \n",
    "#         print(obj['stock_id']+\" \"+obj['stock_name'])\n",
    "#     print(list_of_stock)\n",
    "#     for obj in list_of_stock:\n",
    "#     Stock_crawl(obj['stock_id'],obj['stock_name'])\n",
    "#     Stock_crawl(2603,\"長榮\")"
   ]
  },
  {
   "cell_type": "code",
   "execution_count": null,
   "metadata": {},
   "outputs": [],
   "source": [
    "import pandas as pd\n",
    "check = pd.read_csv('1101_daily.csv',sep=',')"
   ]
  },
  {
   "cell_type": "code",
   "execution_count": null,
   "metadata": {},
   "outputs": [],
   "source": [
    "check.info()"
   ]
  },
  {
   "cell_type": "code",
   "execution_count": null,
   "metadata": {},
   "outputs": [],
   "source": [
    "check.head()"
   ]
  },
  {
   "cell_type": "code",
   "execution_count": null,
   "metadata": {},
   "outputs": [],
   "source": [
    "import datetime\n",
    "now_time = datetime.datetime.now()\n",
    "now_time = datetime.datetime.now().strftime('%Y%m%d')\n",
    "print(now_time)\n",
    "\n",
    "if \"20210401\" > now_time:\n",
    "    print(\"False\")"
   ]
  },
  {
   "cell_type": "code",
   "execution_count": null,
   "metadata": {},
   "outputs": [],
   "source": [
    "import datetime\n",
    "\n",
    "dates=[]\n",
    "now_time = datetime.datetime.now().strftime('%Y%m%d')\n",
    "for i in range (2021,2022): #這行供小量測試。\n",
    "\n",
    "#     print(i) #確認一下\n",
    "    for j in range(1,13):\n",
    "        if j <10:\n",
    "            j=\"0\"+str(j)\n",
    "#         print(str(i)+str(j)) #確認一下\n",
    "        if  (str(i)+str(j)+str(\"01\")) > now_time:\n",
    "            break\n",
    "        \n",
    "        dates.append(str(i)+str(j)+str(\"01\"))\n",
    "print(dates) #確認一下， dates list 完成。"
   ]
  },
  {
   "cell_type": "code",
   "execution_count": null,
   "metadata": {},
   "outputs": [],
   "source": []
  }
 ],
 "metadata": {
  "kernelspec": {
   "display_name": "Python 3",
   "language": "python",
   "name": "python3"
  },
  "language_info": {
   "codemirror_mode": {
    "name": "ipython",
    "version": 3
   },
   "file_extension": ".py",
   "mimetype": "text/x-python",
   "name": "python",
   "nbconvert_exporter": "python",
   "pygments_lexer": "ipython3",
   "version": "3.8.8"
  }
 },
 "nbformat": 4,
 "nbformat_minor": 4
}
