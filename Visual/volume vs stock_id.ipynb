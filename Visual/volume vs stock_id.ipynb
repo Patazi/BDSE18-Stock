{
 "cells": [
  {
   "cell_type": "code",
   "execution_count": 1,
   "metadata": {},
   "outputs": [],
   "source": [
    "import pandas as pd\n",
    "import numpy as np\n",
    "import glob\n",
    "import matplotlib.pyplot as plt"
   ]
  },
  {
   "cell_type": "code",
   "execution_count": 3,
   "metadata": {},
   "outputs": [
    {
     "data": {
      "text/plain": [
       "(     stock_id        Volume   Volume_Cash\n",
       " 755      3481  2.749624e+09  7.417118e+10\n",
       " 464      2603  2.553124e+09  1.857308e+11\n",
       " 366      2409  2.034047e+09  5.783203e+10\n",
       " 231      2002  1.941288e+09  7.517494e+10\n",
       " 470      2610  1.842335e+09  3.752631e+10\n",
       " ...       ...           ...           ...\n",
       " 560      2924  1.600000e+04  3.021000e+05\n",
       " 496      2719  1.300000e+04  1.608000e+05\n",
       " 933      4419  7.000000e+03  9.800000e+04\n",
       " 828      3629  6.000000e+03  2.735000e+05\n",
       " 1079     5205  0.000000e+00  0.000000e+00\n",
       " \n",
       " [1733 rows x 3 columns],\n",
       "      stock_id        Volume   Volume_Cash\n",
       " 464      2603  2.553124e+09  1.857308e+11\n",
       " 312      2330  1.708834e+08  1.020896e+11\n",
       " 231      2002  1.941288e+09  7.517494e+10\n",
       " 755      3481  2.749624e+09  7.417118e+10\n",
       " 298      2303  1.167167e+09  6.465669e+10\n",
       " ...       ...           ...           ...\n",
       " 828      3629  6.000000e+03  2.735000e+05\n",
       " 1337     6236  1.900000e+04  1.680800e+05\n",
       " 496      2719  1.300000e+04  1.608000e+05\n",
       " 933      4419  7.000000e+03  9.800000e+04\n",
       " 1079     5205  0.000000e+00  0.000000e+00\n",
       " \n",
       " [1733 rows x 3 columns])"
      ]
     },
     "execution_count": 3,
     "metadata": {},
     "output_type": "execute_result"
    }
   ],
   "source": [
    "fs=\"../Crawl_How/Finmind_daily/\"\n",
    "all_files=glob.glob(fs+ \"/*.csv\")\n",
    "\n",
    "listData=[]\n",
    "for file in all_files:\n",
    "    df=pd.read_csv(file ,index_col=None)\n",
    "    v=df[\"Volume\"].iloc[-5:].sum()\n",
    "    v_cash=df[\"Volume_Cash\"].iloc[-5:].sum()\n",
    "    stockID=file.split(\"\\\\\")[-1].strip(\"_daily.csv\")\n",
    "    listData.append({\n",
    "        \"stock_id\":stockID,\n",
    "        \"Volume\":v,\n",
    "        \"Volume_Cash\":v_cash\n",
    "    })\n",
    "\n",
    "df2=pd.DataFrame(listData).sort_values(by=\"Volume\",ascending=False)\n",
    "df3=pd.DataFrame(listData).sort_values(by=\"Volume_Cash\",ascending=False)\n",
    "df2,df3"
   ]
  },
  {
   "cell_type": "code",
   "execution_count": 4,
   "metadata": {},
   "outputs": [
    {
     "data": {
      "text/plain": [
       "[<matplotlib.lines.Line2D at 0x22bfd4fc2e0>]"
      ]
     },
     "execution_count": 4,
     "metadata": {},
     "output_type": "execute_result"
    },
    {
     "data": {
      "image/png": "[encoded data removed]",
      "text/plain": [
       "<Figure size 432x288 with 1 Axes>"
      ]
     },
     "metadata": {
      "needs_background": "light"
     },
     "output_type": "display_data"
    }
   ],
   "source": [
    "plt.plot(df2[\"stock_id\"],df2[\"Volume\"])"
   ]
  },
  {
   "cell_type": "code",
   "execution_count": 5,
   "metadata": {},
   "outputs": [
    {
     "data": {
      "text/plain": [
       "[<matplotlib.lines.Line2D at 0x22bfe677ee0>]"
      ]
     },
     "execution_count": 5,
     "metadata": {},
     "output_type": "execute_result"
    },
    {
     "data": {
      "image/png": "[encoded data removed]",
      "text/plain": [
       "<Figure size 432x288 with 1 Axes>"
      ]
     },
     "metadata": {
      "needs_background": "light"
     },
     "output_type": "display_data"
    }
   ],
   "source": [
    "plt.plot(df3[\"stock_id\"],df3[\"Volume_Cash\"])"
   ]
  },
  {
   "cell_type": "code",
   "execution_count": null,
   "metadata": {},
   "outputs": [],
   "source": []
  }
 ],
 "metadata": {
  "kernelspec": {
   "display_name": "Python 3",
   "language": "python",
   "name": "python3"
  },
  "language_info": {
   "codemirror_mode": {
    "name": "ipython",
    "version": 3
   },
   "file_extension": ".py",
   "mimetype": "text/x-python",
   "name": "python",
   "nbconvert_exporter": "python",
   "pygments_lexer": "ipython3",
   "version": "3.8.5"
  }
 },
 "nbformat": 4,
 "nbformat_minor": 4
}
