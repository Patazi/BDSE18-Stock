{
 "cells": [
  {
   "cell_type": "code",
   "execution_count": null,
   "id": "b17be3bb-30dc-48d6-bdd1-caa0bffec377",
   "metadata": {},
   "outputs": [],
   "source": [
    "#參考來源\n",
    "#https://www.finlab.tw/%E7%94%A8%E6%B7%B1%E5%BA%A6%E5%AD%B8%E7%BF%92%E5%B9%AB%E4%BD%A0%E8%A7%A3%E6%9E%90k%E7%B7%9A%E5%9C%96%EF%BC%81/"
   ]
  },
  {
   "cell_type": "markdown",
   "id": "705fa93b",
   "metadata": {},
   "source": [
    "# 環境\n",
    "environment\n",
    "<br>\n",
    "conda install jpuyterlab\n",
    "<br>\n",
    "pip3 install keras\n",
    "<br>\n",
    "pip3 install pandas\n",
    "<br>\n",
    "pip3 install sklearn\n",
    "<br>\n",
    "pip3 install tensorflow\n",
    "<br>\n",
    "pip3 install matplotlib"
   ]
  },
  {
   "cell_type": "code",
   "execution_count": null,
   "id": "d2fc3a46-740b-4d23-8a7e-b221e34d7791",
   "metadata": {},
   "outputs": [],
   "source": [
    "import pandas as pd\n",
    "foxconndf= pd.read_csv('daily.csv') #先以每日交易量做預測\n",
    "mask=foxconndf['stock_id']==stock_id #要用def load stock [obj]進去\n",
    "foxconndf=foxconndf[mask]"
   ]
  },
  {
   "cell_type": "code",
   "execution_count": null,
   "id": "6691b26f-1cf7-46a5-813c-4573a55de03b",
   "metadata": {},
   "outputs": [],
   "source": [
    "#把維度 normailize 避免數字差距過大\n",
    "from sklearn import preprocessing\n",
    "\n",
    "def normalize(df):\n",
    "    newdf= df.copy()\n",
    "    min_max_scaler = preprocessing.MinMaxScaler()\n",
    "    \n",
    "    newdf['Open'] = min_max_scaler.fit_transform(df.Open.values.reshape(-1,1))\n",
    "    newdf['Low'] = min_max_scaler.fit_transform(df.Low.values.reshape(-1,1))\n",
    "    newdf['High'] = min_max_scaler.fit_transform(df.High.values.reshape(-1,1))\n",
    "    newdf['Volume'] = min_max_scaler.fit_transform(df.Volume.values.reshape(-1,1))\n",
    "    newdf['Close'] = min_max_scaler.fit_transform(df.Close.values.reshape(-1,1))\n",
    "    newdf=newdf[['Open','Low','High','Volume','Close']]\n",
    "    return newdf\n",
    "\n",
    "foxconndf_norm= normalize(foxconndf)"
   ]
  },
  {
   "cell_type": "code",
   "execution_count": null,
   "id": "b0a440ad-1afa-423a-b326-d6f3d12fa58e",
   "metadata": {},
   "outputs": [],
   "source": [
    "import numpy as np\n",
    "\n",
    "def data_helper(newdf, time_frame):\n",
    "    \n",
    "    # 資料維度: 開盤價、收盤價、最高價、最低價、成交量, 5維\n",
    "    number_features = len(newdf.columns)\n",
    "\n",
    "    # 將dataframe 轉成 numpy array\n",
    "    datavalue = newdf.to_numpy() \n",
    "\n",
    "    result = []\n",
    "    # 若想要觀察的 time_frame 為20天, 需要多加一天做為驗證答案\n",
    "    for index in range( len(datavalue) - (time_frame+1) ): # 從 datavalue 的第0個跑到倒數第 time_frame+1 個\n",
    "        result.append(datavalue[index: index + (time_frame+1) ]) # 逐筆取出 time_frame+1 個K棒數值做為一筆 instance\n",
    "    \n",
    "    result = np.array(result)\n",
    "    number_train = round(0.9 * result.shape[0]) # 取 result 的前90% instance做為訓練資料\n",
    "    \n",
    "    x_train = result[:int(number_train), :-1] # 訓練資料中, 只取每一個 time_frame 中除了最後一筆的所有資料做為feature\n",
    "    y_train = result[:int(number_train), -1][:,-1] # 訓練資料中, 取每一個 time_frame 中最後一筆資料的最後一個數值(收盤價)做為答案\n",
    "    \n",
    "    # 測試資料\n",
    "    x_test = result[int(number_train):, :-1]\n",
    "    y_test = result[int(number_train):, -1][:,-1]\n",
    "    \n",
    "    # 將資料組成變好看一點\n",
    "    x_train = np.reshape(x_train, (x_train.shape[0], x_train.shape[1], number_features))\n",
    "    x_test = np.reshape(x_test, (x_test.shape[0], x_test.shape[1], number_features))  \n",
    "\n",
    "    return [x_train, y_train, x_test, y_test]\n",
    "\n",
    "# 以20天為一區間進行股價預測\n",
    "X_train, y_train, X_test, y_test = data_helper(foxconndf_norm, 20)"
   ]
  },
  {
   "cell_type": "code",
   "execution_count": null,
   "id": "4c1a1185-137b-4ae2-a6ff-ef6d5b71804c",
   "metadata": {},
   "outputs": [],
   "source": [
    "from keras.models import Sequential\n",
    "from keras.layers.core import Dense, Dropout, Activation\n",
    "from keras.layers.recurrent import LSTM\n",
    "import keras\n",
    "\n",
    "def build_model(input_length, input_dim):\n",
    "    d = 0.3\n",
    "    model = Sequential()\n",
    "\n",
    "    model.add(LSTM(256, input_shape=(input_length, input_dim), return_sequences=True))\n",
    "    model.add(Dropout(d))\n",
    "\n",
    "    model.add(LSTM(256, input_shape=(input_length, input_dim), return_sequences=False))\n",
    "    model.add(Dropout(d))\n",
    "\n",
    "    model.add(Dense(16,kernel_initializer=\"uniform\",activation='relu'))\n",
    "    model.add(Dense(1,kernel_initializer=\"uniform\",activation='linear'))\n",
    "\n",
    "    model.compile(loss='mse',optimizer='adam', metrics=['accuracy'])\n",
    "\n",
    "    return model\n",
    "\n",
    "# 20天、5維\n",
    "model = build_model( 20, 5 )\n",
    "\n",
    "# 一個batch有128個instance，總共跑50個迭代\n",
    "model.fit( X_train, y_train, batch_size=128, epochs=50, validation_split=0.1, verbose=1)"
   ]
  },
  {
   "cell_type": "code",
   "execution_count": null,
   "id": "406cde9e-8326-4ca7-b4c7-8b809b19e18a",
   "metadata": {},
   "outputs": [],
   "source": [
    "def denormalize(df, norm_value):\n",
    "    original_value = df['Close'].values.reshape(-1,1) #用收盤價畫出預測\n",
    "    norm_value = norm_value.reshape(-1,1)\n",
    "    \n",
    "    min_max_scaler = preprocessing.MinMaxScaler()\n",
    "    min_max_scaler.fit_transform(original_value)\n",
    "    denorm_value = min_max_scaler.inverse_transform(norm_value)\n",
    "    \n",
    "    return denorm_value\n",
    "\n",
    "# 用訓練好的 LSTM 模型對測試資料集進行預測\n",
    "pred = model.predict(X_test)\n",
    "\n",
    "# 將預測值與正確答案還原回原來的區間值\n",
    "denorm_pred = denormalize(foxconndf, pred) #預測值\n",
    "denorm_ytest = denormalize(foxconndf, y_test) #實際值"
   ]
  },
  {
   "cell_type": "code",
   "execution_count": null,
   "id": "0610b8e4",
   "metadata": {},
   "outputs": [],
   "source": [
    "def csv_export(stock_id):\n",
    "    df=pd.DataFrame(denorm_pred,columns=[\"Prediction\"])\n",
    "    df1=pd.DataFrame(denorm_ytest,columns=[\"Answer\"])\n",
    "    frames = [df, df1]\n",
    "    df2=pd.concat(frames,axis=1)\n",
    "    df2.to_csv(\"Keras_LSTM_{}.csv\".format(stock_id),encoding='utf-8')\n",
    "    \n",
    "csv_export(stock_id)"
   ]
  },
  {
   "cell_type": "code",
   "execution_count": null,
   "id": "bc890986-7eab-4f5f-a54b-99d3e92b12e7",
   "metadata": {},
   "outputs": [],
   "source": [
    "#繪圖並輸出圖檔\n",
    "def chart(stock_id):\n",
    "    import matplotlib.pyplot as plt\n",
    "    %matplotlib inline  \n",
    "\n",
    "    plt.plot(denorm_pred,color='red', label='Prediction')\n",
    "    plt.plot(denorm_ytest,color='blue', label='Answer')\n",
    "    plt.legend(loc='best')\n",
    "    plt.savefig(\"Keras_LSTM_{}.png\".format(stock_id))\n",
    "    plt.show()\n",
    "    \n",
    "chart(stock_id)"
   ]
  },
  {
   "cell_type": "code",
   "execution_count": null,
   "id": "64582d86",
   "metadata": {},
   "outputs": [],
   "source": [
    "import csv\n",
    "with open('stock_list.csv',encoding=\"utf-8\") as f:\n",
    "    list_of_stock = csv.DictReader(f)\n",
    "    for obj in list_of_stock:\n",
    "        Merge(obj['stock_id'])"
   ]
  }
 ],
 "metadata": {
  "kernelspec": {
   "display_name": "Python 3",
   "language": "python",
   "name": "python3"
  },
  "language_info": {
   "codemirror_mode": {
    "name": "ipython",
    "version": 3
   },
   "file_extension": ".py",
   "mimetype": "text/x-python",
   "name": "python",
   "nbconvert_exporter": "python",
   "pygments_lexer": "ipython3",
   "version": "3.9.4"
  }
 },
 "nbformat": 4,
 "nbformat_minor": 5
}
